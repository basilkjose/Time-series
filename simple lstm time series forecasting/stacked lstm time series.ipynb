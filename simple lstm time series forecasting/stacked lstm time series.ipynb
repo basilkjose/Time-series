{
  "nbformat": 4,
  "nbformat_minor": 0,
  "metadata": {
    "colab": {
      "name": "delab problem 2.ipynb",
      "provenance": [],
      "collapsed_sections": []
    },
    "kernelspec": {
      "display_name": "Python 3",
      "name": "python3"
    }
  },
  "cells": [
    {
      "cell_type": "code",
      "metadata": {
        "colab": {
          "resources": {
            "http://localhost:8080/nbextensions/google.colab/files.js": {
              "data": "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",
              "ok": true,
              "headers": [
                [
                  "content-type",
                  "application/javascript"
                ]
              ],
              "status": 200,
              "status_text": ""
            }
          },
          "base_uri": "https://localhost:8080/",
          "height": 73
        },
        "id": "LR2O_zj0d7__",
        "outputId": "1ebb7f5d-f233-4483-ef7f-38427fc61213"
      },
      "source": [
        "from google.colab import files \n",
        "uploaded = files.upload()"
      ],
      "execution_count": 1,
      "outputs": [
        {
          "output_type": "display_data",
          "data": {
            "text/html": [
              "\n",
              "     <input type=\"file\" id=\"files-4755a1b8-621c-4b20-819a-600b1ecf68a7\" name=\"files[]\" multiple disabled\n",
              "        style=\"border:none\" />\n",
              "     <output id=\"result-4755a1b8-621c-4b20-819a-600b1ecf68a7\">\n",
              "      Upload widget is only available when the cell has been executed in the\n",
              "      current browser session. Please rerun this cell to enable.\n",
              "      </output>\n",
              "      <script src=\"/nbextensions/google.colab/files.js\"></script> "
            ],
            "text/plain": [
              "<IPython.core.display.HTML object>"
            ]
          },
          "metadata": {
            "tags": []
          }
        },
        {
          "output_type": "stream",
          "text": [
            "Saving problem2_dataset.csv to problem2_dataset.csv\n"
          ],
          "name": "stdout"
        }
      ]
    },
    {
      "cell_type": "code",
      "metadata": {
        "id": "RGcoSE4zeD4j"
      },
      "source": [
        "#importing the dataset\n",
        "import pandas as pd\n",
        "data=pd.read_csv(\"problem2_dataset.csv\", header=None)"
      ],
      "execution_count": 2,
      "outputs": []
    },
    {
      "cell_type": "code",
      "metadata": {
        "colab": {
          "base_uri": "https://localhost:8080/",
          "height": 948
        },
        "id": "dRpWYn4OPRUX",
        "outputId": "4878746a-bccb-4fbc-9858-b1794849475b"
      },
      "source": [
        "data.head(30)"
      ],
      "execution_count": 77,
      "outputs": [
        {
          "output_type": "execute_result",
          "data": {
            "text/html": [
              "<div>\n",
              "<style scoped>\n",
              "    .dataframe tbody tr th:only-of-type {\n",
              "        vertical-align: middle;\n",
              "    }\n",
              "\n",
              "    .dataframe tbody tr th {\n",
              "        vertical-align: top;\n",
              "    }\n",
              "\n",
              "    .dataframe thead th {\n",
              "        text-align: right;\n",
              "    }\n",
              "</style>\n",
              "<table border=\"1\" class=\"dataframe\">\n",
              "  <thead>\n",
              "    <tr style=\"text-align: right;\">\n",
              "      <th></th>\n",
              "      <th>0</th>\n",
              "      <th>1</th>\n",
              "      <th>2</th>\n",
              "    </tr>\n",
              "  </thead>\n",
              "  <tbody>\n",
              "    <tr>\n",
              "      <th>0</th>\n",
              "      <td>10.600000</td>\n",
              "      <td>20.000000</td>\n",
              "      <td>2.000000</td>\n",
              "    </tr>\n",
              "    <tr>\n",
              "      <th>1</th>\n",
              "      <td>10.761219</td>\n",
              "      <td>20.020999</td>\n",
              "      <td>2.992447</td>\n",
              "    </tr>\n",
              "    <tr>\n",
              "      <th>2</th>\n",
              "      <td>10.912837</td>\n",
              "      <td>20.023995</td>\n",
              "      <td>3.943493</td>\n",
              "    </tr>\n",
              "    <tr>\n",
              "      <th>3</th>\n",
              "      <td>11.054800</td>\n",
              "      <td>20.009001</td>\n",
              "      <td>4.815118</td>\n",
              "    </tr>\n",
              "    <tr>\n",
              "      <th>4</th>\n",
              "      <td>11.187063</td>\n",
              "      <td>19.976045</td>\n",
              "      <td>5.572398</td>\n",
              "    </tr>\n",
              "    <tr>\n",
              "      <th>5</th>\n",
              "      <td>11.309591</td>\n",
              "      <td>19.925172</td>\n",
              "      <td>6.184897</td>\n",
              "    </tr>\n",
              "    <tr>\n",
              "      <th>6</th>\n",
              "      <td>11.422354</td>\n",
              "      <td>19.856442</td>\n",
              "      <td>6.627883</td>\n",
              "    </tr>\n",
              "    <tr>\n",
              "      <th>7</th>\n",
              "      <td>11.525336</td>\n",
              "      <td>19.769933</td>\n",
              "      <td>6.883310</td>\n",
              "    </tr>\n",
              "    <tr>\n",
              "      <th>8</th>\n",
              "      <td>11.618524</td>\n",
              "      <td>19.665737</td>\n",
              "      <td>6.940544</td>\n",
              "    </tr>\n",
              "    <tr>\n",
              "      <th>9</th>\n",
              "      <td>11.701917</td>\n",
              "      <td>19.543962</td>\n",
              "      <td>6.796780</td>\n",
              "    </tr>\n",
              "    <tr>\n",
              "      <th>10</th>\n",
              "      <td>11.775522</td>\n",
              "      <td>19.404734</td>\n",
              "      <td>6.457160</td>\n",
              "    </tr>\n",
              "    <tr>\n",
              "      <th>11</th>\n",
              "      <td>11.839355</td>\n",
              "      <td>19.248191</td>\n",
              "      <td>5.934567</td>\n",
              "    </tr>\n",
              "    <tr>\n",
              "      <th>12</th>\n",
              "      <td>11.893438</td>\n",
              "      <td>19.074490</td>\n",
              "      <td>5.249110</td>\n",
              "    </tr>\n",
              "    <tr>\n",
              "      <th>13</th>\n",
              "      <td>11.937805</td>\n",
              "      <td>18.883802</td>\n",
              "      <td>4.427325</td>\n",
              "    </tr>\n",
              "    <tr>\n",
              "      <th>14</th>\n",
              "      <td>11.972495</td>\n",
              "      <td>18.676312</td>\n",
              "      <td>3.501119</td>\n",
              "    </tr>\n",
              "    <tr>\n",
              "      <th>15</th>\n",
              "      <td>11.997557</td>\n",
              "      <td>18.452222</td>\n",
              "      <td>2.506494</td>\n",
              "    </tr>\n",
              "    <tr>\n",
              "      <th>16</th>\n",
              "      <td>12.013049</td>\n",
              "      <td>18.211748</td>\n",
              "      <td>1.482119</td>\n",
              "    </tr>\n",
              "    <tr>\n",
              "      <th>17</th>\n",
              "      <td>12.019035</td>\n",
              "      <td>17.955121</td>\n",
              "      <td>0.467784</td>\n",
              "    </tr>\n",
              "    <tr>\n",
              "      <th>18</th>\n",
              "      <td>12.015588</td>\n",
              "      <td>17.682585</td>\n",
              "      <td>-0.497185</td>\n",
              "    </tr>\n",
              "    <tr>\n",
              "      <th>19</th>\n",
              "      <td>12.002790</td>\n",
              "      <td>17.394400</td>\n",
              "      <td>-1.375488</td>\n",
              "    </tr>\n",
              "    <tr>\n",
              "      <th>20</th>\n",
              "      <td>11.980730</td>\n",
              "      <td>17.090840</td>\n",
              "      <td>-2.133341</td>\n",
              "    </tr>\n",
              "    <tr>\n",
              "      <th>21</th>\n",
              "      <td>11.949503</td>\n",
              "      <td>16.772191</td>\n",
              "      <td>-2.741824</td>\n",
              "    </tr>\n",
              "    <tr>\n",
              "      <th>22</th>\n",
              "      <td>11.909215</td>\n",
              "      <td>16.438754</td>\n",
              "      <td>-3.178026</td>\n",
              "    </tr>\n",
              "    <tr>\n",
              "      <th>23</th>\n",
              "      <td>11.859977</td>\n",
              "      <td>16.090842</td>\n",
              "      <td>-3.425963</td>\n",
              "    </tr>\n",
              "    <tr>\n",
              "      <th>24</th>\n",
              "      <td>11.801908</td>\n",
              "      <td>15.728783</td>\n",
              "      <td>-3.477212</td>\n",
              "    </tr>\n",
              "    <tr>\n",
              "      <th>25</th>\n",
              "      <td>11.735134</td>\n",
              "      <td>15.352916</td>\n",
              "      <td>-3.331244</td>\n",
              "    </tr>\n",
              "    <tr>\n",
              "      <th>26</th>\n",
              "      <td>11.659789</td>\n",
              "      <td>14.963591</td>\n",
              "      <td>-2.995446</td>\n",
              "    </tr>\n",
              "    <tr>\n",
              "      <th>27</th>\n",
              "      <td>11.576012</td>\n",
              "      <td>14.561173</td>\n",
              "      <td>-2.484826</td>\n",
              "    </tr>\n",
              "    <tr>\n",
              "      <th>28</th>\n",
              "      <td>11.483951</td>\n",
              "      <td>14.146036</td>\n",
              "      <td>-1.821408</td>\n",
              "    </tr>\n",
              "    <tr>\n",
              "      <th>29</th>\n",
              "      <td>11.383760</td>\n",
              "      <td>13.718567</td>\n",
              "      <td>-1.033358</td>\n",
              "    </tr>\n",
              "  </tbody>\n",
              "</table>\n",
              "</div>"
            ],
            "text/plain": [
              "            0          1         2\n",
              "0   10.600000  20.000000  2.000000\n",
              "1   10.761219  20.020999  2.992447\n",
              "2   10.912837  20.023995  3.943493\n",
              "3   11.054800  20.009001  4.815118\n",
              "4   11.187063  19.976045  5.572398\n",
              "5   11.309591  19.925172  6.184897\n",
              "6   11.422354  19.856442  6.627883\n",
              "7   11.525336  19.769933  6.883310\n",
              "8   11.618524  19.665737  6.940544\n",
              "9   11.701917  19.543962  6.796780\n",
              "10  11.775522  19.404734  6.457160\n",
              "11  11.839355  19.248191  5.934567\n",
              "12  11.893438  19.074490  5.249110\n",
              "13  11.937805  18.883802  4.427325\n",
              "14  11.972495  18.676312  3.501119\n",
              "15  11.997557  18.452222  2.506494\n",
              "16  12.013049  18.211748  1.482119\n",
              "17  12.019035  17.955121  0.467784\n",
              "18  12.015588  17.682585 -0.497185\n",
              "19  12.002790  17.394400 -1.375488\n",
              "20  11.980730  17.090840 -2.133341\n",
              "21  11.949503  16.772191 -2.741824\n",
              "22  11.909215  16.438754 -3.178026\n",
              "23  11.859977  16.090842 -3.425963\n",
              "24  11.801908  15.728783 -3.477212\n",
              "25  11.735134  15.352916 -3.331244\n",
              "26  11.659789  14.963591 -2.995446\n",
              "27  11.576012  14.561173 -2.484826\n",
              "28  11.483951  14.146036 -1.821408\n",
              "29  11.383760  13.718567 -1.033358"
            ]
          },
          "metadata": {
            "tags": []
          },
          "execution_count": 77
        }
      ]
    },
    {
      "cell_type": "code",
      "metadata": {
        "colab": {
          "base_uri": "https://localhost:8080/"
        },
        "id": "He_r4qdGeSLX",
        "outputId": "cfb1e3bf-5f98-4f7a-bc62-e8704a6fc697"
      },
      "source": [
        "data.shape"
      ],
      "execution_count": 3,
      "outputs": [
        {
          "output_type": "execute_result",
          "data": {
            "text/plain": [
              "(750, 3)"
            ]
          },
          "metadata": {
            "tags": []
          },
          "execution_count": 3
        }
      ]
    },
    {
      "cell_type": "code",
      "metadata": {
        "id": "hkC-x_EXeZXP"
      },
      "source": [
        "#separing data of 3 sensors into 3 data frame\n",
        "sensor1=data[0]\n",
        "sensor2=data[1]\n",
        "sensor3=data[2]"
      ],
      "execution_count": 6,
      "outputs": []
    },
    {
      "cell_type": "code",
      "metadata": {
        "colab": {
          "base_uri": "https://localhost:8080/"
        },
        "id": "4Buhyfx4iuYr",
        "outputId": "08d1c6c3-1f24-4b0d-93f8-3832cef0220f"
      },
      "source": [
        "sensor1.shape"
      ],
      "execution_count": 81,
      "outputs": [
        {
          "output_type": "execute_result",
          "data": {
            "text/plain": [
              "(750, 1)"
            ]
          },
          "metadata": {
            "tags": []
          },
          "execution_count": 81
        }
      ]
    },
    {
      "cell_type": "code",
      "metadata": {
        "colab": {
          "base_uri": "https://localhost:8080/",
          "height": 441
        },
        "id": "ymn9lA0ei22P",
        "outputId": "20ecfa62-7410-4e5e-bbd8-abe0b725490f"
      },
      "source": [
        "#Plotting 3 sensors data\n",
        "import matplotlib.pyplot as plt\n",
        "fig = plt.figure(figsize=(9,6))\n",
        "plt.subplot(3, 1, 1)\n",
        "plt.plot(sensor1)\n",
        "plt.title(\"SENSOR-1\")\n",
        "plt.subplot(3, 1, 2)\n",
        "plt.plot(sensor2)\n",
        "plt.title(\"SENSOR-2\")\n",
        "plt.subplot(3, 1, 3)\n",
        "plt.plot(sensor3)\n",
        "plt.title(\"SENSOR-3\")\n",
        "plt.tight_layout()\n",
        "plt.show()"
      ],
      "execution_count": 8,
      "outputs": [
        {
          "output_type": "display_data",
          "data": {
            "image/png": "[encoded data removed]",
            "text/plain": [
              "<Figure size 648x432 with 3 Axes>"
            ]
          },
          "metadata": {
            "tags": [],
            "needs_background": "light"
          }
        }
      ]
    },
    {
      "cell_type": "markdown",
      "metadata": {
        "id": "apxwEIK1Sitp"
      },
      "source": [
        "# ..................SENSOR_1................"
      ]
    },
    {
      "cell_type": "code",
      "metadata": {
        "id": "0rM5UGSNtoBG"
      },
      "source": [
        "import numpy as np\n",
        "from sklearn.preprocessing import MinMaxScaler\n",
        "scaler=MinMaxScaler(feature_range=(0,1))\n",
        "sensor1=scaler.fit_transform(np.array(sensor1).reshape(-1,1))"
      ],
      "execution_count": 9,
      "outputs": []
    },
    {
      "cell_type": "code",
      "metadata": {
        "id": "g6V09xDftoO7"
      },
      "source": [
        "# splitting dataset into train and test based on time\n",
        "training_size=int(len(sensor1)*0.65)\n",
        "test_size=len(sensor1)-training_size\n",
        "train_data,test_data=sensor1[0:training_size,:],sensor1[training_size:len(sensor1),:1]"
      ],
      "execution_count": 82,
      "outputs": []
    },
    {
      "cell_type": "code",
      "metadata": {
        "colab": {
          "base_uri": "https://localhost:8080/"
        },
        "id": "lxNNp4Nw9PN6",
        "outputId": "39bc41f1-d8b1-45af-f590-445c4c3744b4"
      },
      "source": [
        "train_data.shape,test_data.shape"
      ],
      "execution_count": 11,
      "outputs": [
        {
          "output_type": "execute_result",
          "data": {
            "text/plain": [
              "((487, 1), (263, 1))"
            ]
          },
          "metadata": {
            "tags": []
          },
          "execution_count": 11
        }
      ]
    },
    {
      "cell_type": "code",
      "metadata": {
        "id": "rdRMAKTntoUq"
      },
      "source": [
        "# convert an array of values into a dataset matrix\n",
        "def create_dataset(dataset, time_step=1):\n",
        "\tdataX, dataY = [], []\n",
        "\tfor i in range(len(dataset)-time_step-1):\n",
        "\t\ta = dataset[i:(i+time_step), 0]   ###i=0, 0,1,2,3-----99   100 \n",
        "\t\tdataX.append(a)\n",
        "\t\tdataY.append(dataset[i + time_step, 0])\n",
        "\treturn np.array(dataX), np.array(dataY)"
      ],
      "execution_count": 12,
      "outputs": []
    },
    {
      "cell_type": "code",
      "metadata": {
        "id": "KyCimuzxtoXq"
      },
      "source": [
        "time_step = 100\n",
        "X_train, y_train = create_dataset(train_data, time_step)\n",
        "X_test, ytest = create_dataset(test_data, time_step)"
      ],
      "execution_count": 13,
      "outputs": []
    },
    {
      "cell_type": "code",
      "metadata": {
        "colab": {
          "base_uri": "https://localhost:8080/"
        },
        "id": "VynDOgUKtoa6",
        "outputId": "ef03b890-51e8-4bb7-bed8-7e68fcb364ca"
      },
      "source": [
        "X_train.shape,X_test.shape"
      ],
      "execution_count": 14,
      "outputs": [
        {
          "output_type": "execute_result",
          "data": {
            "text/plain": [
              "((386, 100), (162, 100))"
            ]
          },
          "metadata": {
            "tags": []
          },
          "execution_count": 14
        }
      ]
    },
    {
      "cell_type": "code",
      "metadata": {
        "id": "N6j-fsVetoem"
      },
      "source": [
        "X_train =X_train.reshape(X_train.shape[0],X_train.shape[1] , 1)\n",
        "X_test = X_test.reshape(X_test.shape[0],X_test.shape[1] , 1)"
      ],
      "execution_count": 15,
      "outputs": []
    },
    {
      "cell_type": "code",
      "metadata": {
        "id": "gsb1qH5ww9fd"
      },
      "source": [
        "from tensorflow.keras.models import Sequential\n",
        "from tensorflow.keras.layers import Dense\n",
        "from tensorflow.keras.layers import LSTM"
      ],
      "execution_count": 16,
      "outputs": []
    },
    {
      "cell_type": "code",
      "metadata": {
        "id": "J87b3j_vxGHU"
      },
      "source": [
        "model=Sequential()\n",
        "model.add(LSTM(50,return_sequences=True,input_shape=(100,1)))\n",
        "model.add(LSTM(50,return_sequences=True))\n",
        "model.add(LSTM(50))\n",
        "model.add(Dense(1))\n",
        "model.compile(loss='mean_squared_error',optimizer='adam')"
      ],
      "execution_count": 155,
      "outputs": []
    },
    {
      "cell_type": "code",
      "metadata": {
        "colab": {
          "base_uri": "https://localhost:8080/"
        },
        "id": "cCaUkL5RxLvU",
        "outputId": "fb00f0c9-3476-49b0-e89d-032df3a68b9c"
      },
      "source": [
        "model.summary()"
      ],
      "execution_count": 139,
      "outputs": [
        {
          "output_type": "stream",
          "text": [
            "Model: \"sequential_1\"\n",
            "_________________________________________________________________\n",
            "Layer (type)                 Output Shape              Param #   \n",
            "=================================================================\n",
            "lstm_3 (LSTM)                (None, 25, 50)            10400     \n",
            "_________________________________________________________________\n",
            "lstm_4 (LSTM)                (None, 25, 50)            20200     \n",
            "_________________________________________________________________\n",
            "lstm_5 (LSTM)                (None, 50)                20200     \n",
            "_________________________________________________________________\n",
            "dense_1 (Dense)              (None, 1)                 51        \n",
            "=================================================================\n",
            "Total params: 50,851\n",
            "Trainable params: 50,851\n",
            "Non-trainable params: 0\n",
            "_________________________________________________________________\n"
          ],
          "name": "stdout"
        }
      ]
    },
    {
      "cell_type": "code",
      "metadata": {
        "colab": {
          "base_uri": "https://localhost:8080/"
        },
        "id": "8NE0B5cQxOVj",
        "outputId": "cacdfa10-a421-4e76-ecf8-41419ae5621a"
      },
      "source": [
        "model.fit(X_train,y_train,validation_data=(X_test,ytest),epochs=100,batch_size=64,verbose=1)"
      ],
      "execution_count": 19,
      "outputs": [
        {
          "output_type": "stream",
          "text": [
            "Epoch 1/100\n",
            "7/7 [==============================] - 2s 269ms/step - loss: 0.1224 - val_loss: 0.0459\n",
            "Epoch 2/100\n",
            "7/7 [==============================] - 1s 139ms/step - loss: 0.0264 - val_loss: 0.0237\n",
            "Epoch 3/100\n",
            "7/7 [==============================] - 1s 133ms/step - loss: 0.0136 - val_loss: 0.0088\n",
            "Epoch 4/100\n",
            "7/7 [==============================] - 1s 155ms/step - loss: 0.0093 - val_loss: 0.0104\n",
            "Epoch 5/100\n",
            "7/7 [==============================] - 1s 136ms/step - loss: 0.0099 - val_loss: 0.0051\n",
            "Epoch 6/100\n",
            "7/7 [==============================] - 1s 135ms/step - loss: 0.0066 - val_loss: 0.0045\n",
            "Epoch 7/100\n",
            "7/7 [==============================] - 1s 145ms/step - loss: 0.0053 - val_loss: 0.0051\n",
            "Epoch 8/100\n",
            "7/7 [==============================] - 1s 153ms/step - loss: 0.0056 - val_loss: 0.0037\n",
            "Epoch 9/100\n",
            "7/7 [==============================] - 1s 132ms/step - loss: 0.0041 - val_loss: 0.0035\n",
            "Epoch 10/100\n",
            "7/7 [==============================] - 1s 134ms/step - loss: 0.0035 - val_loss: 0.0027\n",
            "Epoch 11/100\n",
            "7/7 [==============================] - 1s 137ms/step - loss: 0.0028 - val_loss: 0.0019\n",
            "Epoch 12/100\n",
            "7/7 [==============================] - 1s 134ms/step - loss: 0.0020 - val_loss: 0.0012\n",
            "Epoch 13/100\n",
            "7/7 [==============================] - 1s 137ms/step - loss: 0.0014 - val_loss: 8.7910e-04\n",
            "Epoch 14/100\n",
            "7/7 [==============================] - 1s 149ms/step - loss: 8.0841e-04 - val_loss: 4.2582e-04\n",
            "Epoch 15/100\n",
            "7/7 [==============================] - 1s 138ms/step - loss: 3.9618e-04 - val_loss: 5.6997e-04\n",
            "Epoch 16/100\n",
            "7/7 [==============================] - 1s 137ms/step - loss: 3.7730e-04 - val_loss: 6.0697e-04\n",
            "Epoch 17/100\n",
            "7/7 [==============================] - 1s 137ms/step - loss: 2.2358e-04 - val_loss: 5.1843e-04\n",
            "Epoch 18/100\n",
            "7/7 [==============================] - 1s 133ms/step - loss: 1.3154e-04 - val_loss: 3.0094e-04\n",
            "Epoch 19/100\n",
            "7/7 [==============================] - 1s 146ms/step - loss: 1.0935e-04 - val_loss: 2.3381e-04\n",
            "Epoch 20/100\n",
            "7/7 [==============================] - 1s 143ms/step - loss: 9.2945e-05 - val_loss: 3.4552e-04\n",
            "Epoch 21/100\n",
            "7/7 [==============================] - 1s 158ms/step - loss: 1.0101e-04 - val_loss: 2.4202e-04\n",
            "Epoch 22/100\n",
            "7/7 [==============================] - 1s 142ms/step - loss: 7.4174e-05 - val_loss: 2.1393e-04\n",
            "Epoch 23/100\n",
            "7/7 [==============================] - 1s 144ms/step - loss: 8.5644e-05 - val_loss: 3.1313e-04\n",
            "Epoch 24/100\n",
            "7/7 [==============================] - 1s 143ms/step - loss: 1.2584e-04 - val_loss: 2.9437e-04\n",
            "Epoch 25/100\n",
            "7/7 [==============================] - 1s 153ms/step - loss: 8.6282e-05 - val_loss: 2.4778e-04\n",
            "Epoch 26/100\n",
            "7/7 [==============================] - 1s 144ms/step - loss: 8.3082e-05 - val_loss: 2.4750e-04\n",
            "Epoch 27/100\n",
            "7/7 [==============================] - 1s 135ms/step - loss: 8.5420e-05 - val_loss: 2.0187e-04\n",
            "Epoch 28/100\n",
            "7/7 [==============================] - 1s 135ms/step - loss: 6.6038e-05 - val_loss: 3.0436e-04\n",
            "Epoch 29/100\n",
            "7/7 [==============================] - 1s 136ms/step - loss: 8.1681e-05 - val_loss: 2.1982e-04\n",
            "Epoch 30/100\n",
            "7/7 [==============================] - 1s 143ms/step - loss: 6.8769e-05 - val_loss: 6.0909e-04\n",
            "Epoch 31/100\n",
            "7/7 [==============================] - 1s 161ms/step - loss: 2.4415e-04 - val_loss: 2.8712e-04\n",
            "Epoch 32/100\n",
            "7/7 [==============================] - 1s 160ms/step - loss: 1.4183e-04 - val_loss: 1.9063e-04\n",
            "Epoch 33/100\n",
            "7/7 [==============================] - 1s 158ms/step - loss: 9.6272e-05 - val_loss: 1.6998e-04\n",
            "Epoch 34/100\n",
            "7/7 [==============================] - 1s 153ms/step - loss: 6.4731e-05 - val_loss: 2.2673e-04\n",
            "Epoch 35/100\n",
            "7/7 [==============================] - 1s 151ms/step - loss: 8.0066e-05 - val_loss: 2.9989e-04\n",
            "Epoch 36/100\n",
            "7/7 [==============================] - 1s 162ms/step - loss: 1.0264e-04 - val_loss: 0.0012\n",
            "Epoch 37/100\n",
            "7/7 [==============================] - 1s 161ms/step - loss: 6.1643e-04 - val_loss: 0.0011\n",
            "Epoch 38/100\n",
            "7/7 [==============================] - 1s 136ms/step - loss: 8.1949e-04 - val_loss: 0.0024\n",
            "Epoch 39/100\n",
            "7/7 [==============================] - 1s 147ms/step - loss: 7.9011e-04 - val_loss: 0.0019\n",
            "Epoch 40/100\n",
            "7/7 [==============================] - 1s 153ms/step - loss: 8.0905e-04 - val_loss: 0.0017\n",
            "Epoch 41/100\n",
            "7/7 [==============================] - 1s 159ms/step - loss: 5.7164e-04 - val_loss: 0.0012\n",
            "Epoch 42/100\n",
            "7/7 [==============================] - 1s 163ms/step - loss: 5.7855e-04 - val_loss: 5.8038e-05\n",
            "Epoch 43/100\n",
            "7/7 [==============================] - 1s 146ms/step - loss: 4.8915e-04 - val_loss: 7.5735e-05\n",
            "Epoch 44/100\n",
            "7/7 [==============================] - 1s 141ms/step - loss: 2.2613e-04 - val_loss: 1.8086e-04\n",
            "Epoch 45/100\n",
            "7/7 [==============================] - 1s 140ms/step - loss: 1.9801e-04 - val_loss: 2.5500e-04\n",
            "Epoch 46/100\n",
            "7/7 [==============================] - 1s 156ms/step - loss: 1.5454e-04 - val_loss: 1.6674e-04\n",
            "Epoch 47/100\n",
            "7/7 [==============================] - 1s 142ms/step - loss: 7.4846e-05 - val_loss: 1.8883e-04\n",
            "Epoch 48/100\n",
            "7/7 [==============================] - 1s 137ms/step - loss: 6.1976e-05 - val_loss: 2.4271e-04\n",
            "Epoch 49/100\n",
            "7/7 [==============================] - 1s 136ms/step - loss: 8.6448e-05 - val_loss: 4.0078e-04\n",
            "Epoch 50/100\n",
            "7/7 [==============================] - 1s 136ms/step - loss: 1.1668e-04 - val_loss: 1.6304e-04\n",
            "Epoch 51/100\n",
            "7/7 [==============================] - 1s 139ms/step - loss: 8.1241e-05 - val_loss: 1.9090e-04\n",
            "Epoch 52/100\n",
            "7/7 [==============================] - 1s 137ms/step - loss: 6.2717e-05 - val_loss: 1.9261e-04\n",
            "Epoch 53/100\n",
            "7/7 [==============================] - 1s 141ms/step - loss: 5.6083e-05 - val_loss: 1.8112e-04\n",
            "Epoch 54/100\n",
            "7/7 [==============================] - 1s 137ms/step - loss: 5.3846e-05 - val_loss: 2.1967e-04\n",
            "Epoch 55/100\n",
            "7/7 [==============================] - 1s 135ms/step - loss: 5.9197e-05 - val_loss: 2.8925e-04\n",
            "Epoch 56/100\n",
            "7/7 [==============================] - 1s 156ms/step - loss: 7.3855e-05 - val_loss: 1.9196e-04\n",
            "Epoch 57/100\n",
            "7/7 [==============================] - 1s 143ms/step - loss: 5.0859e-05 - val_loss: 1.6977e-04\n",
            "Epoch 58/100\n",
            "7/7 [==============================] - 1s 144ms/step - loss: 4.6164e-05 - val_loss: 2.2066e-04\n",
            "Epoch 59/100\n",
            "7/7 [==============================] - 1s 140ms/step - loss: 5.4829e-05 - val_loss: 1.9301e-04\n",
            "Epoch 60/100\n",
            "7/7 [==============================] - 1s 159ms/step - loss: 4.1326e-05 - val_loss: 2.0273e-04\n",
            "Epoch 61/100\n",
            "7/7 [==============================] - 1s 150ms/step - loss: 4.1410e-05 - val_loss: 1.9254e-04\n",
            "Epoch 62/100\n",
            "7/7 [==============================] - 1s 138ms/step - loss: 4.1317e-05 - val_loss: 2.0770e-04\n",
            "Epoch 63/100\n",
            "7/7 [==============================] - 1s 157ms/step - loss: 5.0602e-05 - val_loss: 1.8769e-04\n",
            "Epoch 64/100\n",
            "7/7 [==============================] - 1s 162ms/step - loss: 7.4409e-05 - val_loss: 1.6293e-04\n",
            "Epoch 65/100\n",
            "7/7 [==============================] - 1s 135ms/step - loss: 5.4925e-05 - val_loss: 2.1481e-04\n",
            "Epoch 66/100\n",
            "7/7 [==============================] - 1s 154ms/step - loss: 4.2929e-05 - val_loss: 1.8156e-04\n",
            "Epoch 67/100\n",
            "7/7 [==============================] - 1s 136ms/step - loss: 4.1183e-05 - val_loss: 1.9800e-04\n",
            "Epoch 68/100\n",
            "7/7 [==============================] - 1s 160ms/step - loss: 6.7619e-05 - val_loss: 1.7915e-04\n",
            "Epoch 69/100\n",
            "7/7 [==============================] - 1s 150ms/step - loss: 6.6655e-05 - val_loss: 1.7004e-04\n",
            "Epoch 70/100\n",
            "7/7 [==============================] - 1s 136ms/step - loss: 4.8638e-05 - val_loss: 3.2224e-04\n",
            "Epoch 71/100\n",
            "7/7 [==============================] - 1s 149ms/step - loss: 7.8209e-05 - val_loss: 2.3407e-04\n",
            "Epoch 72/100\n",
            "7/7 [==============================] - 1s 141ms/step - loss: 9.1688e-05 - val_loss: 2.5895e-04\n",
            "Epoch 73/100\n",
            "7/7 [==============================] - 1s 144ms/step - loss: 7.5074e-05 - val_loss: 1.9409e-04\n",
            "Epoch 74/100\n",
            "7/7 [==============================] - 1s 138ms/step - loss: 6.3813e-05 - val_loss: 1.7556e-04\n",
            "Epoch 75/100\n",
            "7/7 [==============================] - 1s 161ms/step - loss: 5.9278e-05 - val_loss: 1.8827e-04\n",
            "Epoch 76/100\n",
            "7/7 [==============================] - 1s 140ms/step - loss: 4.1792e-05 - val_loss: 1.8053e-04\n",
            "Epoch 77/100\n",
            "7/7 [==============================] - 1s 135ms/step - loss: 4.0155e-05 - val_loss: 1.8378e-04\n",
            "Epoch 78/100\n",
            "7/7 [==============================] - 1s 155ms/step - loss: 3.6843e-05 - val_loss: 1.8191e-04\n",
            "Epoch 79/100\n",
            "7/7 [==============================] - 1s 159ms/step - loss: 5.4786e-05 - val_loss: 1.8102e-04\n",
            "Epoch 80/100\n",
            "7/7 [==============================] - 1s 155ms/step - loss: 5.5728e-05 - val_loss: 1.3431e-04\n",
            "Epoch 81/100\n",
            "7/7 [==============================] - 1s 168ms/step - loss: 5.3353e-05 - val_loss: 1.4242e-04\n",
            "Epoch 82/100\n",
            "7/7 [==============================] - 1s 161ms/step - loss: 5.4792e-05 - val_loss: 1.7850e-04\n",
            "Epoch 83/100\n",
            "7/7 [==============================] - 1s 165ms/step - loss: 4.6104e-05 - val_loss: 1.5078e-04\n",
            "Epoch 84/100\n",
            "7/7 [==============================] - 1s 154ms/step - loss: 5.2924e-05 - val_loss: 1.4276e-04\n",
            "Epoch 85/100\n",
            "7/7 [==============================] - 1s 138ms/step - loss: 4.5030e-05 - val_loss: 1.7491e-04\n",
            "Epoch 86/100\n",
            "7/7 [==============================] - 1s 150ms/step - loss: 4.4868e-05 - val_loss: 1.2807e-04\n",
            "Epoch 87/100\n",
            "7/7 [==============================] - 1s 138ms/step - loss: 3.9685e-05 - val_loss: 1.2308e-04\n",
            "Epoch 88/100\n",
            "7/7 [==============================] - 1s 136ms/step - loss: 3.2309e-05 - val_loss: 1.4238e-04\n",
            "Epoch 89/100\n",
            "7/7 [==============================] - 1s 144ms/step - loss: 2.8235e-05 - val_loss: 1.4687e-04\n",
            "Epoch 90/100\n",
            "7/7 [==============================] - 1s 146ms/step - loss: 2.7043e-05 - val_loss: 1.8031e-04\n",
            "Epoch 91/100\n",
            "7/7 [==============================] - 1s 137ms/step - loss: 3.6973e-05 - val_loss: 1.6095e-04\n",
            "Epoch 92/100\n",
            "7/7 [==============================] - 1s 147ms/step - loss: 4.4336e-05 - val_loss: 1.8461e-04\n",
            "Epoch 93/100\n",
            "7/7 [==============================] - 1s 138ms/step - loss: 6.0200e-05 - val_loss: 3.1053e-04\n",
            "Epoch 94/100\n",
            "7/7 [==============================] - 1s 139ms/step - loss: 1.2044e-04 - val_loss: 1.7370e-04\n",
            "Epoch 95/100\n",
            "7/7 [==============================] - 1s 135ms/step - loss: 9.0396e-05 - val_loss: 1.7648e-04\n",
            "Epoch 96/100\n",
            "7/7 [==============================] - 1s 140ms/step - loss: 9.4725e-05 - val_loss: 1.9127e-04\n",
            "Epoch 97/100\n",
            "7/7 [==============================] - 1s 152ms/step - loss: 9.1555e-05 - val_loss: 4.2748e-04\n",
            "Epoch 98/100\n",
            "7/7 [==============================] - 1s 140ms/step - loss: 1.0713e-04 - val_loss: 1.5354e-04\n",
            "Epoch 99/100\n",
            "7/7 [==============================] - 1s 146ms/step - loss: 3.6704e-05 - val_loss: 1.5671e-04\n",
            "Epoch 100/100\n",
            "7/7 [==============================] - 1s 145ms/step - loss: 3.4744e-05 - val_loss: 1.3547e-04\n"
          ],
          "name": "stdout"
        },
        {
          "output_type": "execute_result",
          "data": {
            "text/plain": [
              "<tensorflow.python.keras.callbacks.History at 0x7fbd35f4b550>"
            ]
          },
          "metadata": {
            "tags": []
          },
          "execution_count": 19
        }
      ]
    },
    {
      "cell_type": "code",
      "metadata": {
        "id": "8hbFRhW4xXjM"
      },
      "source": [
        "#Lets Do the prediction and check performance metrics\n",
        "train_predict=model.predict(X_train)\n",
        "test_predict=model.predict(X_test)"
      ],
      "execution_count": 20,
      "outputs": []
    },
    {
      "cell_type": "code",
      "metadata": {
        "id": "pHjnyT5fZQEP"
      },
      "source": [
        "#Transformback to original form\n",
        "train_predict=scaler.inverse_transform(train_predict)\n",
        "test_predict=scaler.inverse_transform(test_predict)"
      ],
      "execution_count": 21,
      "outputs": []
    },
    {
      "cell_type": "code",
      "metadata": {
        "colab": {
          "base_uri": "https://localhost:8080/"
        },
        "id": "paiIqUU7ZUUm",
        "outputId": "b41c29d4-59a3-4e06-b64a-7697f8425879"
      },
      "source": [
        "#Calculate RMSE performance metrics\n",
        "import math\n",
        "from sklearn.metrics import mean_squared_error\n",
        "math.sqrt(mean_squared_error(y_train,train_predict))"
      ],
      "execution_count": 22,
      "outputs": [
        {
          "output_type": "execute_result",
          "data": {
            "text/plain": [
              "8.463222351451238"
            ]
          },
          "metadata": {
            "tags": []
          },
          "execution_count": 22
        }
      ]
    },
    {
      "cell_type": "code",
      "metadata": {
        "colab": {
          "base_uri": "https://localhost:8080/"
        },
        "id": "PCKk9uUJZWst",
        "outputId": "252e1689-aec4-4b6b-f143-2bb77e1a57f3"
      },
      "source": [
        "### Test Data RMSE\n",
        "math.sqrt(mean_squared_error(ytest,test_predict))"
      ],
      "execution_count": 23,
      "outputs": [
        {
          "output_type": "execute_result",
          "data": {
            "text/plain": [
              "7.017436028740703"
            ]
          },
          "metadata": {
            "tags": []
          },
          "execution_count": 23
        }
      ]
    },
    {
      "cell_type": "code",
      "metadata": {
        "colab": {
          "base_uri": "https://localhost:8080/",
          "height": 268
        },
        "id": "w7LLJRfRZbp1",
        "outputId": "7c1b16ee-558b-42dd-98f5-36af3bf94e24"
      },
      "source": [
        "# Plotting \n",
        "# shift train predictions for plotting\n",
        "import matplotlib.pyplot as plt\n",
        "look_back=100\n",
        "trainPredictPlot = np.empty_like(sensor1)\n",
        "trainPredictPlot[:, :] = np.nan\n",
        "trainPredictPlot[look_back:len(train_predict)+look_back, :] = train_predict\n",
        "# shift test predictions for plotting\n",
        "testPredictPlot = np.empty_like(sensor1)\n",
        "testPredictPlot[:, :] = np.nan\n",
        "testPredictPlot[len(train_predict)+(look_back*2)+1:len(sensor1)-1, :] = test_predict\n",
        "# plot baseline and predictions\n",
        "plt.plot(scaler.inverse_transform(sensor1),label=\"orginal dataset\")\n",
        "plt.plot(trainPredictPlot,label=\"train dataset\")\n",
        "plt.plot(testPredictPlot,label=\"test dataset\")\n",
        "plt.legend()\n",
        "plt.show()"
      ],
      "execution_count": 24,
      "outputs": [
        {
          "output_type": "display_data",
          "data": {
            "image/png": "[encoded data removed]",
            "text/plain": [
              "<Figure size 432x288 with 1 Axes>"
            ]
          },
          "metadata": {
            "tags": [],
            "needs_background": "light"
          }
        }
      ]
    },
    {
      "cell_type": "code",
      "metadata": {
        "colab": {
          "base_uri": "https://localhost:8080/"
        },
        "id": "DKcEnFtdZhWd",
        "outputId": "fd3e3063-c69e-47a6-e4e7-0cf96f08c9eb"
      },
      "source": [
        "len(test_data)"
      ],
      "execution_count": 26,
      "outputs": [
        {
          "output_type": "execute_result",
          "data": {
            "text/plain": [
              "263"
            ]
          },
          "metadata": {
            "tags": []
          },
          "execution_count": 26
        }
      ]
    },
    {
      "cell_type": "code",
      "metadata": {
        "colab": {
          "base_uri": "https://localhost:8080/"
        },
        "id": "NKuIs_G_dRvL",
        "outputId": "2509a533-e88e-425b-da2e-35ef6d71b3e3"
      },
      "source": [
        "x_input=test_data[163:].reshape(1,-1)# storing previous 100 sensor1 value for future prediction\n",
        "x_input.shape"
      ],
      "execution_count": 27,
      "outputs": [
        {
          "output_type": "execute_result",
          "data": {
            "text/plain": [
              "(1, 100)"
            ]
          },
          "metadata": {
            "tags": []
          },
          "execution_count": 27
        }
      ]
    },
    {
      "cell_type": "code",
      "metadata": {
        "id": "igVpxaE1dfKK"
      },
      "source": [
        "temp_input=list(x_input)\n",
        "temp_input=temp_input[0].tolist()"
      ],
      "execution_count": 28,
      "outputs": []
    },
    {
      "cell_type": "code",
      "metadata": {
        "colab": {
          "base_uri": "https://localhost:8080/"
        },
        "id": "hhpsf0aza8p9",
        "outputId": "ef03f2d6-f74e-417a-98fa-4f6a1971af35"
      },
      "source": [
        "len(temp_input)"
      ],
      "execution_count": 29,
      "outputs": [
        {
          "output_type": "execute_result",
          "data": {
            "text/plain": [
              "100"
            ]
          },
          "metadata": {
            "tags": []
          },
          "execution_count": 29
        }
      ]
    },
    {
      "cell_type": "code",
      "metadata": {
        "colab": {
          "base_uri": "https://localhost:8080/"
        },
        "id": "O-2KbErudrmq",
        "outputId": "8fdbb904-02fb-4c01-fc58-ecd6b21a97d2"
      },
      "source": [
        "# demonstrate prediction for next 500 values\n",
        "from numpy import array\n",
        "lst_output=[]\n",
        "n_steps=100\n",
        "i=0\n",
        "while(i<500):\n",
        "    if(len(temp_input)>100):\n",
        "        #print(temp_input)\n",
        "        x_input=np.array(temp_input[1:])\n",
        "       # print(\"{} day input {}\".format(i,x_input))\n",
        "        x_input=x_input.reshape(1,-1)\n",
        "        x_input = x_input.reshape((1, n_steps, 1))\n",
        "        #print(x_input)\n",
        "        yhat = model.predict(x_input, verbose=0)\n",
        "        #print(\"{} day output {}\".format(i,yhat))\n",
        "        temp_input.extend(yhat[0].tolist())\n",
        "        temp_input=temp_input[1:]\n",
        "        #print(temp_input)\n",
        "        lst_output.extend(yhat.tolist())\n",
        "        i=i+1\n",
        "    else:\n",
        "        x_input = x_input.reshape((1, n_steps,1))\n",
        "        yhat = model.predict(x_input, verbose=0)\n",
        "        temp_input.extend(yhat[0].tolist())\n",
        "        lst_output.extend(yhat.tolist())\n",
        "        i=i+1\n",
        "print(lst_output)"
      ],
      "execution_count": 30,
      "outputs": [
        {
          "output_type": "stream",
          "text": [
            "[[0.3892833888530731], [0.3902713358402252], [0.3913261890411377], [0.3924379348754883], [0.39361101388931274], [0.3948577046394348], [0.39619335532188416], [0.3976336419582367], [0.399191677570343], [0.4008784592151642], [0.4027014970779419], [0.4046659767627716], [0.4067745804786682], [0.4090283215045929], [0.41142699122428894], [0.4139694273471832], [0.41665399074554443], [0.4194788336753845], [0.42244184017181396], [0.42554107308387756], [0.4287744164466858], [0.4321398437023163], [0.43563538789749146], [0.43925920128822327], [0.44300901889801025], [0.44688308238983154], [0.45087897777557373], [0.45499467849731445], [0.4592275321483612], [0.46357542276382446], [0.46803560853004456], [0.47260531783103943], [0.4772818982601166], [0.4820622503757477], [0.4869433343410492], [0.491921991109848], [0.49699485301971436], [0.5021584033966064], [0.5074090957641602], [0.5127432346343994], [0.5181571245193481], [0.5236467123031616], [0.5292078852653503], [0.5348367094993591], [0.5405289530754089], [0.5462800860404968], [0.5520858764648438], [0.5579419732093811], [0.5638435482978821], [0.5697862505912781], [0.5757651925086975], [0.5817761421203613], [0.5878137946128845], [0.5938737988471985], [0.5999512672424316], [0.6060413122177124], [0.6121393442153931], [0.6182405352592468], [0.6243400573730469], [0.6304330825805664], [0.6365153193473816], [0.6425817012786865], [0.6486275792121887], [0.6546486020088196], [0.6606400012969971], [0.666597306728363], [0.6725161671638489], [0.6783921122550964], [0.6842208504676819], [0.6899981498718262], [0.6957197189331055], [0.7013814449310303], [0.7069791555404663], [0.7125092148780823], [0.7179672718048096], [0.7233498096466064], [0.7286526560783386], [0.7338725328445435], [0.739005446434021], [0.7440483570098877], [0.748997151851654], [0.7538489103317261], [0.7586000561714172], [0.7632473707199097], [0.7677878737449646], [0.7722184658050537], [0.7765359282493591], [0.7807375192642212], [0.7848206162452698], [0.7887821197509766], [0.7926194667816162], [0.7963301539421082], [0.7999117970466614], [0.8033620715141296], [0.8066784739494324], [0.8098589181900024], [0.8129013776779175], [0.8158035278320312], [0.8185637593269348], [0.8211801052093506], [0.8236507773399353], [0.8259742856025696], [0.8281493186950684], [0.8301740288734436], [0.8320470452308655], [0.8337670564651489], [0.8353335857391357], [0.8367446064949036], [0.8380000591278076], [0.8390984535217285], [0.8400393128395081], [0.8408217430114746], [0.8414453864097595], [0.841909646987915], [0.8422139883041382], [0.8423584699630737], [0.8423424959182739], [0.8421661257743835], [0.8418294787406921], [0.8413324356079102], [0.8406752347946167], [0.8398579359054565], [0.838881254196167], [0.8377450704574585], [0.8364502787590027], [0.8349974155426025], [0.8333871364593506], [0.831619918346405], [0.8296972513198853], [0.8276195526123047], [0.8253879547119141], [0.8230031728744507], [0.8204671144485474], [0.8177803158760071], [0.8149444460868835], [0.8119608759880066], [0.8088308572769165], [0.8055561780929565], [0.8021383881568909], [0.7985789775848389], [0.7948799729347229], [0.7910427451133728], [0.7870696187019348], [0.7829625010490417], [0.7787231206893921], [0.7743539810180664], [0.7698567509651184], [0.7652342319488525], [0.7604880928993225], [0.755621075630188], [0.7506353855133057], [0.7455337047576904], [0.7403184771537781], [0.7349920272827148], [0.7295573949813843], [0.7240172624588013], [0.7183740735054016], [0.7126309275627136], [0.7067906260490417], [0.70085608959198], [0.6948302984237671], [0.6887164115905762], [0.6825173497200012], [0.6762363910675049], [0.6698770523071289], [0.6634419560432434], [0.6569350957870483], [0.6503594517707825], [0.6437187790870667], [0.6370162963867188], [0.6302555203437805], [0.623440682888031], [0.6165748238563538], [0.6096622347831726], [0.6027063131332397], [0.5957114696502686], [0.5886811017990112], [0.5816198587417603], [0.5745316743850708], [0.5674206018447876], [0.5602911710739136], [0.5531479716300964], [0.5459951162338257], [0.5388376116752625], [0.5316799879074097], [0.5245270729064941], [0.5173836946487427], [0.5102552771568298], [0.5031465291976929], [0.4960630238056183], [0.4890100955963135], [0.4819931387901306], [0.47501781582832336], [0.46808990836143494], [0.46121516823768616], [0.45439958572387695], [0.4476492404937744], [0.44097012281417847], [0.4343685805797577], [0.42785072326660156], [0.42142313718795776], [0.41509202122688293], [0.40886378288269043], [0.40274500846862793], [0.39674195647239685], [0.3908612132072449], [0.3851090371608734], [0.3794918954372406], [0.3740159869194031], [0.36868730187416077], [0.36351215839385986], [0.3584963083267212], [0.3536454141139984], [0.348965048789978], [0.34446069598197937], [0.3401373326778412], [0.3359999656677246], [0.33205312490463257], [0.32830125093460083], [0.3247484266757965], [0.32139852643013], [0.3182550370693207], [0.3153211176395416], [0.312599778175354], [0.31009361147880554], [0.3078049421310425], [0.3057357966899872], [0.3038879334926605], [0.30226290225982666], [0.3008618652820587], [0.2996857762336731], [0.29873523116111755], [0.2980108857154846], [0.2975129187107086], [0.2972413897514343], [0.29719609022140503], [0.29737693071365356], [0.29778337478637695], [0.29841479659080505], [0.2992706000804901], [0.3003498613834381], [0.30165180563926697], [0.30317530035972595], [0.304919570684433], [0.3068833649158478], [0.3090656101703644], [0.3114651143550873], [0.31408068537712097], [0.31691116094589233], [0.319955438375473], [0.3232121765613556], [0.3266802132129669], [0.3303583860397339], [0.3342454135417938], [0.3383401334285736], [0.3426412343978882], [0.3471475839614868], [0.3518579304218292], [0.3567708730697632], [0.36188533902168274], [0.36719968914985657], [0.3727126121520996], [0.3784225583076477], [0.38432803750038147], [0.39042723178863525], [0.3967183828353882], [0.4031994342803955], [0.4098682403564453], [0.4167224168777466], [0.4237595200538635], [0.43097665905952454], [0.4383709132671356], [0.44593870639801025], [0.45367667078971863], [0.461580753326416], [0.4696469008922577], [0.477870374917984], [0.48624634742736816], [0.49476951360702515], [0.5034343004226685], [0.5122348070144653], [0.5211646556854248], [0.5302174687385559], [0.5393861532211304], [0.5486637949943542], [0.5580426454544067], [0.5675153136253357], [0.577073872089386], [0.5867102742195129], [0.5964163541793823], [0.6061842441558838], [0.6160053014755249], [0.6258711814880371], [0.6357737183570862], [0.6457047462463379], [0.6556558609008789], [0.6656187176704407], [0.6755857467651367], [0.6855486631393433], [0.6954995393753052], [0.7054307460784912], [0.715334415435791], [0.725203275680542], [0.735029935836792], [0.7448067665100098], [0.7545268535614014], [0.7641827464103699], [0.7737677097320557], [0.7832749485969543], [0.7926973104476929], [0.8020280599594116], [0.8112605214118958], [0.82038813829422], [0.829404354095459], [0.8383026123046875], [0.8470765352249146], [0.8557201027870178], [0.8642264008522034], [0.8725897669792175], [0.8808040618896484], [0.888863205909729], [0.8967615365982056], [0.9044933319091797], [0.9120525121688843], [0.9194341897964478], [0.9266321659088135], [0.9336419701576233], [0.9404579997062683], [0.947075605392456], [0.9534900784492493], [0.9596962928771973], [0.9656903147697449], [0.9714676737785339], [0.977024495601654], [0.9823566675186157], [0.9874606728553772], [0.9923331141471863], [0.9969706535339355], [1.0013699531555176], [1.0055286884307861], [1.0094441175460815], [1.0131138563156128], [1.0165354013442993], [1.0197073221206665], [1.022627353668213], [1.025294303894043], [1.0277066230773926], [1.0298638343811035], [1.0317639112472534], [1.033407211303711], [1.0347925424575806], [1.0359197854995728], [1.036789059638977], [1.0374001264572144], [1.0377534627914429], [1.0378488302230835], [1.0376876592636108], [1.0372698307037354], [1.036596417427063], [1.035668969154358], [1.0344880819320679], [1.033055067062378], [1.0313712358474731], [1.0294380187988281], [1.0272570848464966], [1.0248308181762695], [1.0221601724624634], [1.01924729347229], [1.0160943269729614], [1.0127029418945312], [1.0090759992599487], [1.0052154064178467], [1.001123309135437], [0.9968023300170898], [0.9922549724578857], [0.9874842166900635], [0.9824917316436768], [0.9772810935974121], [0.9718549847602844], [0.9662157893180847], [0.9603668451309204], [0.9543111324310303], [0.9480516314506531], [0.9415916800498962], [0.9349340796470642], [0.9280828237533569], [0.9210408926010132], [0.9138117432594299], [0.9063990712165833], [0.8988068103790283], [0.8910380005836487], [0.8830969333648682], [0.8749874830245972], [0.8667136430740356], [0.8582793474197388], [0.8496887683868408], [0.8409463763237], [0.8320564031600952], [0.8230230808258057], [0.8138512372970581], [0.8045452237129211], [0.795109748840332], [0.7855496406555176], [0.7758695483207703], [0.7660745978355408], [0.7561693787574768], [0.7461591362953186], [0.7360488176345825], [0.7258434891700745], [0.715548574924469], [0.7051690220832825], [0.6947101354598999], [0.6841773390769958], [0.6735759377479553], [0.6629111766815186], [0.652188777923584], [0.6414141058921814], [0.6305928230285645], [0.6197306513786316], [0.6088331937789917], [0.5979064106941223], [0.5869562029838562], [0.57598876953125], [0.5650103092193604], [0.5540273785591125], [0.5430464148521423], [0.5320743322372437], [0.5211181640625], [0.5101853013038635], [0.49928316473960876], [0.4884200990200043], [0.477603942155838], [0.4668433666229248], [0.45614734292030334], [0.445525199174881], [0.43498656153678894], [0.42454150319099426], [0.41420042514801025], [0.4039740264415741], [0.39387351274490356], [0.3839101195335388], [0.37409570813179016], [0.36444196105003357], [0.35496097803115845], [0.3456650674343109], [0.33656609058380127], [0.32767635583877563], [0.319007933139801], [0.31057247519493103], [0.30238157510757446], [0.29444620013237], [0.2867770493030548], [0.2793842554092407], [0.27227717638015747], [0.26546454429626465], [0.25895431637763977], [0.25275370478630066], [0.24686895310878754], [0.24130557477474213], [0.23606804013252258], [0.23115991055965424], [0.2265840321779251], [0.22234225273132324], [0.21843566000461578], [0.21486446261405945], [0.21162819862365723], [0.2087256759405136], [0.20615507662296295], [0.20391391217708588], [0.2019994556903839], [0.2004081904888153], [0.199136421084404], [0.19818009436130524], [0.19753488898277283], [0.19719624519348145], [0.19715949892997742], [0.19741985201835632], [0.19797253608703613], [0.19881269335746765], [0.19993552565574646], [0.20133638381958008], [0.20301063358783722], [0.20495378971099854], [0.2071615606546402], [0.2096298635005951], [0.21235470473766327], [0.21533256769180298], [0.2185598611831665], [0.22203344106674194], [0.2257504016160965], [0.22970804572105408], [0.23390398919582367], [0.23833614587783813], [0.24300259351730347], [0.24790170788764954], [0.25303226709365845], [0.25839313864707947], [0.26398348808288574], [0.2698027491569519], [0.2758505940437317]]\n"
          ],
          "name": "stdout"
        }
      ]
    },
    {
      "cell_type": "code",
      "metadata": {
        "colab": {
          "base_uri": "https://localhost:8080/"
        },
        "id": "YVaylicze1SY",
        "outputId": "59c8637d-7610-40e1-f742-3c90f8f52b2b"
      },
      "source": [
        "len(lst_output)"
      ],
      "execution_count": 38,
      "outputs": [
        {
          "output_type": "execute_result",
          "data": {
            "text/plain": [
              "500"
            ]
          },
          "metadata": {
            "tags": []
          },
          "execution_count": 38
        }
      ]
    },
    {
      "cell_type": "code",
      "metadata": {
        "id": "5e0PRRAtP5nq"
      },
      "source": [
        "arr = np.array(lst_output)"
      ],
      "execution_count": 68,
      "outputs": []
    },
    {
      "cell_type": "code",
      "metadata": {
        "id": "vGkLuWyXlRQG"
      },
      "source": [
        "day_new=np.arange(1,751)\n",
        "day_pred=np.arange(751,1251)"
      ],
      "execution_count": 32,
      "outputs": []
    },
    {
      "cell_type": "code",
      "metadata": {
        "colab": {
          "base_uri": "https://localhost:8080/",
          "height": 392
        },
        "id": "tsC2DZNMe473",
        "outputId": "060bb9ab-524a-4e1d-ec5f-df6df08e9967"
      },
      "source": [
        "plt.figure(figsize=(8,6))\n",
        "plt.plot(day_new,scaler.inverse_transform(sensor1),label=\"actual data\")\n",
        "plt.plot(day_pred,scaler.inverse_transform(lst_output),label=\"predicated output\")\n",
        "plt.legend()"
      ],
      "execution_count": 76,
      "outputs": [
        {
          "output_type": "execute_result",
          "data": {
            "text/plain": [
              "<matplotlib.legend.Legend at 0x7fbd30ad7be0>"
            ]
          },
          "metadata": {
            "tags": []
          },
          "execution_count": 76
        },
        {
          "output_type": "display_data",
          "data": {
            "image/png": "[encoded data removed]",
            "text/plain": [
              "<Figure size 576x432 with 1 Axes>"
            ]
          },
          "metadata": {
            "tags": [],
            "needs_background": "light"
          }
        }
      ]
    },
    {
      "cell_type": "code",
      "metadata": {
        "id": "Yy1wI1cplIb7"
      },
      "source": [
        "df_500 =pd.DataFrame()\r\n",
        "col_names =  ['s1', 's2', 's3'] \r\n",
        "df_500 = pd.DataFrame(columns = col_names) "
      ],
      "execution_count": 47,
      "outputs": []
    },
    {
      "cell_type": "code",
      "metadata": {
        "id": "1CNaMem-Ne8s"
      },
      "source": [
        "df_500[\"s1\"]=scaler.inverse_transform(arr)"
      ],
      "execution_count": null,
      "outputs": []
    },
    {
      "cell_type": "markdown",
      "metadata": {
        "id": "YNsCPIa2StTg"
      },
      "source": [
        "#.................SENSOR_2............"
      ]
    },
    {
      "cell_type": "code",
      "metadata": {
        "id": "HkjFzbAmSxth"
      },
      "source": [
        "sensor2=scaler.fit_transform(np.array(sensor2).reshape(-1,1))"
      ],
      "execution_count": 83,
      "outputs": []
    },
    {
      "cell_type": "code",
      "metadata": {
        "id": "VR5oQhF0TAL1"
      },
      "source": [
        "training_size=int(len(sensor2)*0.65)\r\n",
        "test_size=len(sensor2)-training_size\r\n",
        "train_data,test_data=sensor2[0:training_size,:],sensor2[training_size:len(sensor2),:1]"
      ],
      "execution_count": 84,
      "outputs": []
    },
    {
      "cell_type": "code",
      "metadata": {
        "colab": {
          "base_uri": "https://localhost:8080/"
        },
        "id": "QcbnjNn-VAsA",
        "outputId": "d3724e94-48e5-45e6-c671-825d72716f85"
      },
      "source": [
        "train_data.shape,test_data.shape"
      ],
      "execution_count": 85,
      "outputs": [
        {
          "output_type": "execute_result",
          "data": {
            "text/plain": [
              "((487, 1), (263, 1))"
            ]
          },
          "metadata": {
            "tags": []
          },
          "execution_count": 85
        }
      ]
    },
    {
      "cell_type": "code",
      "metadata": {
        "id": "WX8e4DNDVHdI"
      },
      "source": [
        "time_step = 100\r\n",
        "X_train, y_train = create_dataset(train_data, time_step)\r\n",
        "X_test, ytest = create_dataset(test_data, time_step)"
      ],
      "execution_count": 86,
      "outputs": []
    },
    {
      "cell_type": "code",
      "metadata": {
        "colab": {
          "base_uri": "https://localhost:8080/"
        },
        "id": "yUtVUVgBVP8w",
        "outputId": "139e135f-61f4-4b49-94fa-6acc54c51c3f"
      },
      "source": [
        "X_train.shape,X_test.shape"
      ],
      "execution_count": 87,
      "outputs": [
        {
          "output_type": "execute_result",
          "data": {
            "text/plain": [
              "((386, 100), (162, 100))"
            ]
          },
          "metadata": {
            "tags": []
          },
          "execution_count": 87
        }
      ]
    },
    {
      "cell_type": "code",
      "metadata": {
        "id": "B8wN8Sk5VTxv"
      },
      "source": [
        "X_train =X_train.reshape(X_train.shape[0],X_train.shape[1] , 1)\r\n",
        "X_test = X_test.reshape(X_test.shape[0],X_test.shape[1] , 1)"
      ],
      "execution_count": 88,
      "outputs": []
    },
    {
      "cell_type": "code",
      "metadata": {
        "colab": {
          "base_uri": "https://localhost:8080/"
        },
        "id": "ChxhqUfyVXOf",
        "outputId": "2615150e-085b-4a20-f048-989629f83777"
      },
      "source": [
        "model.fit(X_train,y_train,validation_data=(X_test,ytest),epochs=100,batch_size=64,verbose=1)"
      ],
      "execution_count": 89,
      "outputs": [
        {
          "output_type": "stream",
          "text": [
            "Epoch 1/100\n",
            "7/7 [==============================] - 1s 143ms/step - loss: 1.4902e-04 - val_loss: 3.5925e-04\n",
            "Epoch 2/100\n",
            "7/7 [==============================] - 1s 138ms/step - loss: 1.7689e-04 - val_loss: 1.1257e-04\n",
            "Epoch 3/100\n",
            "7/7 [==============================] - 1s 139ms/step - loss: 7.6898e-05 - val_loss: 1.8730e-04\n",
            "Epoch 4/100\n",
            "7/7 [==============================] - 1s 138ms/step - loss: 9.4780e-05 - val_loss: 1.1404e-04\n",
            "Epoch 5/100\n",
            "7/7 [==============================] - 1s 160ms/step - loss: 6.8265e-05 - val_loss: 2.8306e-05\n",
            "Epoch 6/100\n",
            "7/7 [==============================] - 1s 161ms/step - loss: 6.2248e-05 - val_loss: 1.0649e-04\n",
            "Epoch 7/100\n",
            "7/7 [==============================] - 1s 151ms/step - loss: 4.9206e-05 - val_loss: 1.3188e-05\n",
            "Epoch 8/100\n",
            "7/7 [==============================] - 1s 146ms/step - loss: 1.4668e-05 - val_loss: 6.8532e-05\n",
            "Epoch 9/100\n",
            "7/7 [==============================] - 1s 147ms/step - loss: 3.0809e-05 - val_loss: 7.0779e-06\n",
            "Epoch 10/100\n",
            "7/7 [==============================] - 1s 162ms/step - loss: 1.1461e-05 - val_loss: 6.7559e-05\n",
            "Epoch 11/100\n",
            "7/7 [==============================] - 1s 144ms/step - loss: 3.7220e-05 - val_loss: 6.3981e-05\n",
            "Epoch 12/100\n",
            "7/7 [==============================] - 1s 137ms/step - loss: 2.7352e-05 - val_loss: 4.4270e-05\n",
            "Epoch 13/100\n",
            "7/7 [==============================] - 1s 139ms/step - loss: 2.8077e-05 - val_loss: 7.0808e-06\n",
            "Epoch 14/100\n",
            "7/7 [==============================] - 1s 140ms/step - loss: 1.7947e-05 - val_loss: 3.2806e-05\n",
            "Epoch 15/100\n",
            "7/7 [==============================] - 1s 142ms/step - loss: 1.7709e-05 - val_loss: 3.0541e-05\n",
            "Epoch 16/100\n",
            "7/7 [==============================] - 1s 138ms/step - loss: 2.0939e-05 - val_loss: 9.5849e-06\n",
            "Epoch 17/100\n",
            "7/7 [==============================] - 1s 158ms/step - loss: 1.7339e-05 - val_loss: 6.6037e-05\n",
            "Epoch 18/100\n",
            "7/7 [==============================] - 1s 153ms/step - loss: 2.3263e-05 - val_loss: 8.6093e-05\n",
            "Epoch 19/100\n",
            "7/7 [==============================] - 1s 137ms/step - loss: 3.4404e-05 - val_loss: 3.1321e-05\n",
            "Epoch 20/100\n",
            "7/7 [==============================] - 1s 141ms/step - loss: 1.6575e-05 - val_loss: 1.7401e-05\n",
            "Epoch 21/100\n",
            "7/7 [==============================] - 1s 137ms/step - loss: 1.2879e-05 - val_loss: 1.1603e-05\n",
            "Epoch 22/100\n",
            "7/7 [==============================] - 1s 164ms/step - loss: 1.1257e-05 - val_loss: 2.2936e-05\n",
            "Epoch 23/100\n",
            "7/7 [==============================] - 1s 157ms/step - loss: 1.3624e-05 - val_loss: 4.7837e-05\n",
            "Epoch 24/100\n",
            "7/7 [==============================] - 1s 150ms/step - loss: 2.7378e-05 - val_loss: 1.2088e-05\n",
            "Epoch 25/100\n",
            "7/7 [==============================] - 1s 143ms/step - loss: 1.1011e-05 - val_loss: 5.7555e-06\n",
            "Epoch 26/100\n",
            "7/7 [==============================] - 1s 153ms/step - loss: 9.7163e-06 - val_loss: 1.2952e-05\n",
            "Epoch 27/100\n",
            "7/7 [==============================] - 1s 151ms/step - loss: 1.1666e-05 - val_loss: 1.4107e-05\n",
            "Epoch 28/100\n",
            "7/7 [==============================] - 1s 150ms/step - loss: 1.0371e-05 - val_loss: 4.1379e-06\n",
            "Epoch 29/100\n",
            "7/7 [==============================] - 1s 149ms/step - loss: 5.0512e-06 - val_loss: 5.2177e-05\n",
            "Epoch 30/100\n",
            "7/7 [==============================] - 1s 137ms/step - loss: 2.2992e-05 - val_loss: 1.1515e-05\n",
            "Epoch 31/100\n",
            "7/7 [==============================] - 1s 139ms/step - loss: 1.7710e-05 - val_loss: 3.6178e-05\n",
            "Epoch 32/100\n",
            "7/7 [==============================] - 1s 153ms/step - loss: 2.6773e-05 - val_loss: 6.4117e-05\n",
            "Epoch 33/100\n",
            "7/7 [==============================] - 1s 137ms/step - loss: 2.5683e-05 - val_loss: 4.6496e-05\n",
            "Epoch 34/100\n",
            "7/7 [==============================] - 1s 138ms/step - loss: 3.8342e-05 - val_loss: 4.3205e-04\n",
            "Epoch 35/100\n",
            "7/7 [==============================] - 1s 142ms/step - loss: 2.7428e-04 - val_loss: 3.7510e-05\n",
            "Epoch 36/100\n",
            "7/7 [==============================] - 1s 157ms/step - loss: 1.8808e-04 - val_loss: 2.3764e-04\n",
            "Epoch 37/100\n",
            "7/7 [==============================] - 1s 142ms/step - loss: 1.1308e-04 - val_loss: 2.5953e-04\n",
            "Epoch 38/100\n",
            "7/7 [==============================] - 1s 142ms/step - loss: 1.1976e-04 - val_loss: 7.1631e-06\n",
            "Epoch 39/100\n",
            "7/7 [==============================] - 1s 140ms/step - loss: 3.9496e-05 - val_loss: 8.5469e-06\n",
            "Epoch 40/100\n",
            "7/7 [==============================] - 1s 148ms/step - loss: 1.6397e-05 - val_loss: 7.0690e-06\n",
            "Epoch 41/100\n",
            "7/7 [==============================] - 1s 140ms/step - loss: 9.2117e-06 - val_loss: 1.4649e-05\n",
            "Epoch 42/100\n",
            "7/7 [==============================] - 1s 140ms/step - loss: 7.8746e-06 - val_loss: 3.3338e-05\n",
            "Epoch 43/100\n",
            "7/7 [==============================] - 1s 137ms/step - loss: 1.2832e-05 - val_loss: 2.1309e-05\n",
            "Epoch 44/100\n",
            "7/7 [==============================] - 1s 141ms/step - loss: 1.7930e-05 - val_loss: 5.6373e-06\n",
            "Epoch 45/100\n",
            "7/7 [==============================] - 1s 144ms/step - loss: 6.7086e-06 - val_loss: 5.2086e-06\n",
            "Epoch 46/100\n",
            "7/7 [==============================] - 1s 139ms/step - loss: 6.0349e-06 - val_loss: 9.4479e-06\n",
            "Epoch 47/100\n",
            "7/7 [==============================] - 1s 140ms/step - loss: 4.1481e-06 - val_loss: 1.0929e-05\n",
            "Epoch 48/100\n",
            "7/7 [==============================] - 1s 142ms/step - loss: 7.0354e-06 - val_loss: 2.1235e-06\n",
            "Epoch 49/100\n",
            "7/7 [==============================] - 1s 162ms/step - loss: 5.3657e-06 - val_loss: 5.5795e-06\n",
            "Epoch 50/100\n",
            "7/7 [==============================] - 1s 142ms/step - loss: 3.4402e-06 - val_loss: 5.0037e-06\n",
            "Epoch 51/100\n",
            "7/7 [==============================] - 1s 142ms/step - loss: 4.2600e-06 - val_loss: 2.7346e-06\n",
            "Epoch 52/100\n",
            "7/7 [==============================] - 1s 154ms/step - loss: 3.5879e-06 - val_loss: 2.1207e-05\n",
            "Epoch 53/100\n",
            "7/7 [==============================] - 1s 140ms/step - loss: 8.3454e-06 - val_loss: 1.3707e-05\n",
            "Epoch 54/100\n",
            "7/7 [==============================] - 1s 139ms/step - loss: 8.1810e-06 - val_loss: 4.3183e-05\n",
            "Epoch 55/100\n",
            "7/7 [==============================] - 1s 141ms/step - loss: 1.7094e-05 - val_loss: 3.6702e-06\n",
            "Epoch 56/100\n",
            "7/7 [==============================] - 1s 168ms/step - loss: 1.1086e-05 - val_loss: 5.5221e-05\n",
            "Epoch 57/100\n",
            "7/7 [==============================] - 1s 164ms/step - loss: 3.9493e-05 - val_loss: 7.4716e-05\n",
            "Epoch 58/100\n",
            "7/7 [==============================] - 1s 152ms/step - loss: 3.6613e-05 - val_loss: 1.1469e-05\n",
            "Epoch 59/100\n",
            "7/7 [==============================] - 1s 144ms/step - loss: 2.9400e-05 - val_loss: 9.1708e-06\n",
            "Epoch 60/100\n",
            "7/7 [==============================] - 1s 150ms/step - loss: 9.5136e-06 - val_loss: 5.8177e-06\n",
            "Epoch 61/100\n",
            "7/7 [==============================] - 1s 140ms/step - loss: 4.5709e-06 - val_loss: 1.4354e-05\n",
            "Epoch 62/100\n",
            "7/7 [==============================] - 1s 137ms/step - loss: 5.7402e-06 - val_loss: 3.0379e-05\n",
            "Epoch 63/100\n",
            "7/7 [==============================] - 1s 137ms/step - loss: 1.5650e-05 - val_loss: 5.2798e-05\n",
            "Epoch 64/100\n",
            "7/7 [==============================] - 1s 140ms/step - loss: 2.1546e-05 - val_loss: 1.0721e-05\n",
            "Epoch 65/100\n",
            "7/7 [==============================] - 1s 139ms/step - loss: 9.8797e-06 - val_loss: 1.6365e-05\n",
            "Epoch 66/100\n",
            "7/7 [==============================] - 1s 138ms/step - loss: 6.1214e-06 - val_loss: 3.5375e-06\n",
            "Epoch 67/100\n",
            "7/7 [==============================] - 1s 148ms/step - loss: 3.5144e-06 - val_loss: 7.3898e-06\n",
            "Epoch 68/100\n",
            "7/7 [==============================] - 1s 157ms/step - loss: 3.7602e-06 - val_loss: 1.2382e-04\n",
            "Epoch 69/100\n",
            "7/7 [==============================] - 1s 163ms/step - loss: 4.6940e-05 - val_loss: 3.0643e-05\n",
            "Epoch 70/100\n",
            "7/7 [==============================] - 1s 148ms/step - loss: 2.8849e-05 - val_loss: 1.2650e-05\n",
            "Epoch 71/100\n",
            "7/7 [==============================] - 1s 162ms/step - loss: 7.6867e-06 - val_loss: 3.3093e-05\n",
            "Epoch 72/100\n",
            "7/7 [==============================] - 1s 143ms/step - loss: 1.3692e-05 - val_loss: 6.9205e-05\n",
            "Epoch 73/100\n",
            "7/7 [==============================] - 1s 142ms/step - loss: 3.5665e-05 - val_loss: 5.3842e-05\n",
            "Epoch 74/100\n",
            "7/7 [==============================] - 1s 167ms/step - loss: 3.3801e-05 - val_loss: 2.7999e-06\n",
            "Epoch 75/100\n",
            "7/7 [==============================] - 1s 163ms/step - loss: 5.4989e-06 - val_loss: 6.9382e-06\n",
            "Epoch 76/100\n",
            "7/7 [==============================] - 1s 153ms/step - loss: 4.3275e-06 - val_loss: 5.9925e-06\n",
            "Epoch 77/100\n",
            "7/7 [==============================] - 1s 142ms/step - loss: 3.2178e-06 - val_loss: 4.5935e-06\n",
            "Epoch 78/100\n",
            "7/7 [==============================] - 1s 139ms/step - loss: 2.7297e-06 - val_loss: 5.3039e-06\n",
            "Epoch 79/100\n",
            "7/7 [==============================] - 1s 140ms/step - loss: 2.4624e-06 - val_loss: 4.0954e-06\n",
            "Epoch 80/100\n",
            "7/7 [==============================] - 1s 152ms/step - loss: 2.3766e-06 - val_loss: 3.0275e-06\n",
            "Epoch 81/100\n",
            "7/7 [==============================] - 1s 140ms/step - loss: 2.6554e-06 - val_loss: 6.2928e-06\n",
            "Epoch 82/100\n",
            "7/7 [==============================] - 1s 143ms/step - loss: 3.1811e-06 - val_loss: 3.9962e-06\n",
            "Epoch 83/100\n",
            "7/7 [==============================] - 1s 158ms/step - loss: 2.3280e-06 - val_loss: 7.0482e-06\n",
            "Epoch 84/100\n",
            "7/7 [==============================] - 1s 153ms/step - loss: 3.9258e-06 - val_loss: 7.0612e-06\n",
            "Epoch 85/100\n",
            "7/7 [==============================] - 1s 141ms/step - loss: 4.4644e-06 - val_loss: 1.2651e-05\n",
            "Epoch 86/100\n",
            "7/7 [==============================] - 1s 158ms/step - loss: 5.9930e-06 - val_loss: 7.6875e-06\n",
            "Epoch 87/100\n",
            "7/7 [==============================] - 1s 159ms/step - loss: 3.4557e-06 - val_loss: 4.2661e-06\n",
            "Epoch 88/100\n",
            "7/7 [==============================] - 1s 168ms/step - loss: 2.5799e-06 - val_loss: 3.9920e-06\n",
            "Epoch 89/100\n",
            "7/7 [==============================] - 1s 155ms/step - loss: 2.2283e-06 - val_loss: 3.7529e-06\n",
            "Epoch 90/100\n",
            "7/7 [==============================] - 1s 169ms/step - loss: 2.1604e-06 - val_loss: 5.1387e-06\n",
            "Epoch 91/100\n",
            "7/7 [==============================] - 1s 146ms/step - loss: 5.1838e-06 - val_loss: 9.1231e-06\n",
            "Epoch 92/100\n",
            "7/7 [==============================] - 1s 153ms/step - loss: 9.6637e-06 - val_loss: 4.1266e-06\n",
            "Epoch 93/100\n",
            "7/7 [==============================] - 1s 141ms/step - loss: 2.5853e-06 - val_loss: 2.8355e-05\n",
            "Epoch 94/100\n",
            "7/7 [==============================] - 1s 147ms/step - loss: 1.8253e-05 - val_loss: 1.7465e-05\n",
            "Epoch 95/100\n",
            "7/7 [==============================] - 1s 139ms/step - loss: 5.5045e-06 - val_loss: 2.9697e-05\n",
            "Epoch 96/100\n",
            "7/7 [==============================] - 1s 142ms/step - loss: 1.3288e-05 - val_loss: 1.3935e-04\n",
            "Epoch 97/100\n",
            "7/7 [==============================] - 1s 141ms/step - loss: 7.1755e-05 - val_loss: 3.0402e-04\n",
            "Epoch 98/100\n",
            "7/7 [==============================] - 1s 139ms/step - loss: 1.4345e-04 - val_loss: 6.9525e-06\n",
            "Epoch 99/100\n",
            "7/7 [==============================] - 1s 137ms/step - loss: 4.0005e-05 - val_loss: 2.1209e-05\n",
            "Epoch 100/100\n",
            "7/7 [==============================] - 1s 138ms/step - loss: 1.4115e-05 - val_loss: 4.2588e-06\n"
          ],
          "name": "stdout"
        },
        {
          "output_type": "execute_result",
          "data": {
            "text/plain": [
              "<tensorflow.python.keras.callbacks.History at 0x7fbd30a3b668>"
            ]
          },
          "metadata": {
            "tags": []
          },
          "execution_count": 89
        }
      ]
    },
    {
      "cell_type": "code",
      "metadata": {
        "id": "3k10QKXVVcv_"
      },
      "source": [
        "train_predict=model.predict(X_train)\r\n",
        "test_predict=model.predict(X_test)"
      ],
      "execution_count": 90,
      "outputs": []
    },
    {
      "cell_type": "code",
      "metadata": {
        "id": "dz-LTIFKVkQl"
      },
      "source": [
        "train_predict=scaler.inverse_transform(train_predict)\r\n",
        "test_predict=scaler.inverse_transform(test_predict)"
      ],
      "execution_count": 91,
      "outputs": []
    },
    {
      "cell_type": "code",
      "metadata": {
        "colab": {
          "base_uri": "https://localhost:8080/"
        },
        "id": "IEvcQiTkVkVu",
        "outputId": "0199b285-70fe-414d-d88d-e4c361066380"
      },
      "source": [
        "import math\r\n",
        "from sklearn.metrics import mean_squared_error\r\n",
        "math.sqrt(mean_squared_error(y_train,train_predict))"
      ],
      "execution_count": 92,
      "outputs": [
        {
          "output_type": "execute_result",
          "data": {
            "text/plain": [
              "13.529305407118098"
            ]
          },
          "metadata": {
            "tags": []
          },
          "execution_count": 92
        }
      ]
    },
    {
      "cell_type": "code",
      "metadata": {
        "colab": {
          "base_uri": "https://localhost:8080/"
        },
        "id": "r_NEDDFXVkcX",
        "outputId": "6d7e543f-e3b5-4901-e7ce-912c569202f0"
      },
      "source": [
        "math.sqrt(mean_squared_error(ytest,test_predict))"
      ],
      "execution_count": 93,
      "outputs": [
        {
          "output_type": "execute_result",
          "data": {
            "text/plain": [
              "14.243432538287246"
            ]
          },
          "metadata": {
            "tags": []
          },
          "execution_count": 93
        }
      ]
    },
    {
      "cell_type": "code",
      "metadata": {
        "colab": {
          "base_uri": "https://localhost:8080/",
          "height": 265
        },
        "id": "R5UH7cu9WCs_",
        "outputId": "c966b5db-2037-4c8f-cbe4-6ed161abc9a4"
      },
      "source": [
        "import matplotlib.pyplot as plt\r\n",
        "look_back=100\r\n",
        "trainPredictPlot = np.empty_like(sensor2)\r\n",
        "trainPredictPlot[:, :] = np.nan\r\n",
        "trainPredictPlot[look_back:len(train_predict)+look_back, :] = train_predict\r\n",
        "# shift test predictions for plotting\r\n",
        "testPredictPlot = np.empty_like(sensor2)\r\n",
        "testPredictPlot[:, :] = np.nan\r\n",
        "testPredictPlot[len(train_predict)+(look_back*2)+1:len(sensor2)-1, :] = test_predict\r\n",
        "# plot baseline and predictions\r\n",
        "plt.plot(scaler.inverse_transform(sensor2),label=\"orginal dataset\")\r\n",
        "plt.plot(trainPredictPlot,label=\"train dataset\")\r\n",
        "plt.plot(testPredictPlot,label=\"test dataset\")\r\n",
        "plt.legend()\r\n",
        "plt.show()"
      ],
      "execution_count": 96,
      "outputs": [
        {
          "output_type": "display_data",
          "data": {
            "image/png": "[encoded data removed]",
            "text/plain": [
              "<Figure size 432x288 with 1 Axes>"
            ]
          },
          "metadata": {
            "tags": [],
            "needs_background": "light"
          }
        }
      ]
    },
    {
      "cell_type": "code",
      "metadata": {
        "colab": {
          "base_uri": "https://localhost:8080/"
        },
        "id": "pwqme34rWT5m",
        "outputId": "e47f7bd4-dd03-4372-e06f-8430730a190d"
      },
      "source": [
        "x_input=test_data[163:].reshape(1,-1)# storing previous 100 sensor1 value for future prediction\r\n",
        "x_input.shape\r\n"
      ],
      "execution_count": 97,
      "outputs": [
        {
          "output_type": "execute_result",
          "data": {
            "text/plain": [
              "(1, 100)"
            ]
          },
          "metadata": {
            "tags": []
          },
          "execution_count": 97
        }
      ]
    },
    {
      "cell_type": "code",
      "metadata": {
        "id": "DeugVX03W7np"
      },
      "source": [
        "temp_input=list(x_input)\r\n",
        "temp_input=temp_input[0].tolist()"
      ],
      "execution_count": 98,
      "outputs": []
    },
    {
      "cell_type": "code",
      "metadata": {
        "colab": {
          "base_uri": "https://localhost:8080/"
        },
        "id": "h1mWHe8PXAcl",
        "outputId": "0554e11d-b5dd-4510-f5d5-8afb5e05860c"
      },
      "source": [
        "from numpy import array\r\n",
        "lst_output=[]\r\n",
        "n_steps=100\r\n",
        "i=0\r\n",
        "while(i<500):\r\n",
        "    if(len(temp_input)>100):\r\n",
        "        #print(temp_input)\r\n",
        "        x_input=np.array(temp_input[1:])\r\n",
        "       # print(\"{} day input {}\".format(i,x_input))\r\n",
        "        x_input=x_input.reshape(1,-1)\r\n",
        "        x_input = x_input.reshape((1, n_steps, 1))\r\n",
        "        #print(x_input)\r\n",
        "        yhat = model.predict(x_input, verbose=0)\r\n",
        "        #print(\"{} day output {}\".format(i,yhat))\r\n",
        "        temp_input.extend(yhat[0].tolist())\r\n",
        "        temp_input=temp_input[1:]\r\n",
        "        #print(temp_input)\r\n",
        "        lst_output.extend(yhat.tolist())\r\n",
        "        i=i+1\r\n",
        "    else:\r\n",
        "        x_input = x_input.reshape((1, n_steps,1))\r\n",
        "        yhat = model.predict(x_input, verbose=0)\r\n",
        "        temp_input.extend(yhat[0].tolist())\r\n",
        "        lst_output.extend(yhat.tolist())\r\n",
        "        i=i+1\r\n",
        "print(lst_output)"
      ],
      "execution_count": 99,
      "outputs": [
        {
          "output_type": "stream",
          "text": [
            "[[0.11081498861312866], [0.11710762232542038], [0.12370731681585312], [0.13060131669044495], [0.13778342306613922], [0.14525166153907776], [0.15300637483596802], [0.16104862093925476], [0.16937944293022156], [0.17799915373325348], [0.18690705299377441], [0.1961013525724411], [0.20557916164398193], [0.21533656120300293], [0.2253684401512146], [0.23566873371601105], [0.2462306022644043], [0.25704583525657654], [0.2681055963039398], [0.27939969301223755], [0.29091712832450867], [0.3026457130908966], [0.3145720958709717], [0.32668209075927734], [0.3389604687690735], [0.35139110684394836], [0.36395755410194397], [0.37664252519607544], [0.3894287943840027], [0.402299165725708], [0.4152365028858185], [0.42822447419166565], [0.44124728441238403], [0.4542900323867798], [0.46733856201171875], [0.48038002848625183], [0.4934023916721344], [0.5063944458961487], [0.5193458795547485], [0.5322469472885132], [0.5450885891914368], [0.5578620433807373], [0.570558488368988], [0.58316969871521], [0.595687210559845], [0.6081022620201111], [0.6204066872596741], [0.6325913071632385], [0.6446472406387329], [0.6565653681755066], [0.6683362722396851], [0.6799508929252625], [0.691399097442627], [0.7026717066764832], [0.7137585282325745], [0.7246500253677368], [0.735336184501648], [0.7458072900772095], [0.7560533285140991], [0.7660645842552185], [0.7758314609527588], [0.7853441834449768], [0.7945932745933533], [0.8035693764686584], [0.8122636675834656], [0.8206667304039001], [0.8287702798843384], [0.8365657925605774], [0.8440451622009277], [0.8512005805969238], [0.8580247163772583], [0.864510178565979], [0.870650589466095], [0.8764398097991943], [0.8818714618682861], [0.8869403600692749], [0.8916416764259338], [0.8959705233573914], [0.8999229669570923], [0.9034951329231262], [0.9066844582557678], [0.9094873070716858], [0.911902129650116], [0.9139266014099121], [0.9155594706535339], [0.9167996048927307], [0.917646586894989], [0.9180999398231506], [0.9181601405143738], [0.9178271293640137], [0.9171026349067688], [0.9159876704216003], [0.9144836068153381], [0.912592351436615], [0.9103162884712219], [0.9076581597328186], [0.9046200513839722], [0.9012054204940796], [0.8974175453186035], [0.8932599425315857], [0.8887367248535156], [0.8838516473770142], [0.8786090612411499], [0.8730133771896362], [0.8670693039894104], [0.8607820868492126], [0.8541566133499146], [0.8471986055374146], [0.8399133086204529], [0.8323072195053101], [0.8243858814239502], [0.8161558508872986], [0.8076241612434387], [0.7987975478172302], [0.7896826863288879], [0.78028804063797], [0.7706205248832703], [0.7606883645057678], [0.7505001425743103], [0.7400644421577454], [0.7293901443481445], [0.718486487865448], [0.7073633074760437], [0.6960300803184509], [0.6844971776008606], [0.6727750897407532], [0.660874605178833], [0.6488065123558044], [0.6365823149681091], [0.6242131590843201], [0.6117109656333923], [0.5990877747535706], [0.5863551497459412], [0.5735256671905518], [0.5606110095977783], [0.5476238131523132], [0.5345762372016907], [0.5214804410934448], [0.5083485841751099], [0.4951930046081543], [0.4820253849029541], [0.46885743737220764], [0.45570099353790283], [0.44256728887557983], [0.4294675886631012], [0.41641271114349365], [0.4034133851528168], [0.39048007130622864], [0.3776228725910187], [0.3648519217967987], [0.3521767854690552], [0.339607298374176], [0.32715272903442383], [0.31482261419296265], [0.3026260733604431], [0.29057249426841736], [0.2786710858345032], [0.26693129539489746], [0.25536248087882996], [0.2439744472503662], [0.23277680575847626], [0.22177977859973907], [0.21099352836608887], [0.20042875409126282], [0.19009631872177124], [0.18000733852386475], [0.17017324268817902], [0.16060587763786316], [0.15131710469722748], [0.1423192024230957], [0.13362433016300201], [0.12524498999118805], [0.11719348281621933], [0.10948203504085541], [0.10212265700101852], [0.09512703865766525], [0.08850651979446411], [0.08227172493934631], [0.07643277943134308], [0.0709988921880722], [0.06597848981618881], [0.061379045248031616], [0.0572068877518177], [0.053467437624931335], [0.05016488581895828], [0.04730233922600746], [0.04488174244761467], [0.04290402680635452], [0.04136902093887329], [0.04027554392814636], [0.039621490985155106], [0.039404064416885376], [0.03961947187781334], [0.040263473987579346], [0.041331179440021515], [0.04281732067465782], [0.04471617937088013], [0.04702185466885567], [0.049728233367204666], [0.05282912403345108], [0.056318286806344986], [0.06018959730863571], [0.06443695724010468], [0.06905446946620941], [0.07403645664453506], [0.0793774276971817], [0.08507221192121506], [0.09111586213111877], [0.09750378131866455], [0.10423162579536438], [0.11129538714885712], [0.11869128793478012], [0.12641581892967224], [0.13446566462516785], [0.1428377330303192], [0.151528999209404], [0.160536527633667], [0.16985729336738586], [0.17948830127716064], [0.18942618370056152], [0.19966726005077362], [0.2102074921131134], [0.2210421860218048], [0.23216579854488373], [0.24357211589813232], [0.2552538514137268], [0.2672024369239807], [0.2794080674648285], [0.2918596863746643], [0.30454474687576294], [0.31744927167892456], [0.33055785298347473], [0.34385383129119873], [0.35731953382492065], [0.37093624472618103], [0.38468465209007263], [0.39854541420936584], [0.4124988615512848], [0.4265260398387909], [0.44060859084129333], [0.45472899079322815], [0.4688710570335388], [0.4830198287963867], [0.4971616566181183], [0.5112838745117188], [0.525375485420227], [0.539425790309906], [0.5534252524375916], [0.5673643946647644], [0.5812345147132874], [0.5950268507003784], [0.6087323427200317], [0.6223419904708862], [0.6358466148376465], [0.649236261844635], [0.6625009775161743], [0.6756307482719421], [0.6886149048805237], [0.7014424204826355], [0.7141022086143494], [0.726582944393158], [0.7388730049133301], [0.7509608864784241], [0.7628347277641296], [0.7744832038879395], [0.785893976688385], [0.7970556020736694], [0.8079564571380615], [0.8185850381851196], [0.8289297819137573], [0.8389794230461121], [0.8487234115600586], [0.8581504821777344], [0.8672505021095276], [0.8760135769844055], [0.8844298720359802], [0.892490029335022], [0.900185227394104], [0.9075074195861816], [0.9144482612609863], [0.9210007786750793], [0.927157998085022], [0.9329139590263367], [0.9382628202438354], [0.9431989789009094], [0.947718620300293], [0.9518176317214966], [0.9554922580718994], [0.9587399959564209], [0.9615582823753357], [0.9639455676078796], [0.9659004807472229], [0.967422604560852], [0.9685113430023193], [0.9691669940948486], [0.969390332698822], [0.9691823720932007], [0.9685443639755249], [0.9674788117408752], [0.9659873843193054], [0.9640728831291199], [0.9617376923561096], [0.9589855670928955], [0.9558197259902954], [0.9522435665130615], [0.9482614398002625], [0.9438772797584534], [0.9390953779220581], [0.9339206218719482], [0.9283573031425476], [0.9224105477333069], [0.9160858392715454], [0.9093881845474243], [0.9023231267929077], [0.8948966264724731], [0.8871143460273743], [0.8789828419685364], [0.8705081939697266], [0.8616969585418701], [0.8525562882423401], [0.8430930376052856], [0.8333147764205933], [0.8232288360595703], [0.8128434419631958], [0.8021668791770935], [0.7912076711654663], [0.779974639415741], [0.768477201461792], [0.7567249536514282], [0.7447280287742615], [0.7324963808059692], [0.7200411558151245], [0.7073731422424316], [0.6945043206214905], [0.6814458966255188], [0.6682103872299194], [0.6548101902008057], [0.6412582397460938], [0.6275672912597656], [0.6137508749961853], [0.599822461605072], [0.5857955813407898], [0.5716842412948608], [0.5575019717216492], [0.5432628989219666], [0.5289809703826904], [0.51466965675354], [0.5003427267074585], [0.48601388931274414], [0.47169601917266846], [0.45740240812301636], [0.44314563274383545], [0.42893826961517334], [0.41479215025901794], [0.40071940422058105], [0.38673123717308044], [0.37283870577812195], [0.3590528666973114], [0.34538400173187256], [0.3318426012992859], [0.3184387981891632], [0.3051825761795044], [0.29208388924598694], [0.27915269136428833], [0.26639893651008606], [0.2538328766822815], [0.2414647340774536], [0.22930502891540527], [0.21736463904380798], [0.20565469563007355], [0.19418679177761078], [0.1829727739095688], [0.17202502489089966], [0.16135628521442413], [0.15097954869270325], [0.1409084051847458], [0.13115638494491577], [0.12173748761415482], [0.11266573518514633], [0.10395511239767075], [0.0956195592880249], [0.08767262101173401], [0.08012764155864716], [0.07299710810184479], [0.06629306823015213], [0.060026537626981735], [0.054207559674978256], [0.0488450825214386], [0.043946776539087296], [0.03951897844672203], [0.03556673601269722], [0.03209363669157028], [0.02910180389881134], [0.026592165231704712], [0.02456413023173809], [0.023016007617115974], [0.021944893524050713], [0.021346863359212875], [0.02121705748140812], [0.02154981903731823], [0.022338872775435448], [0.02357732690870762], [0.02525796741247177], [0.027373213320970535], [0.029915396124124527], [0.03287667781114578], [0.03624933958053589], [0.04002568870782852], [0.04419824108481407], [0.0487598218023777], [0.053703438490629196], [0.05902253836393356], [0.06471089273691177], [0.0707627385854721], [0.07717268168926239], [0.08393575251102448], [0.091047503054142], [0.09850382804870605], [0.10630100220441818], [0.1144358292222023], [0.12290533632040024], [0.1317068487405777], [0.14083801209926605], [0.15029655396938324], [0.16008040308952332], [0.1701873540878296], [0.1806151270866394], [0.1913611888885498], [0.20242255926132202], [0.2137957513332367], [0.22547663748264313], [0.2374599128961563], [0.24973943829536438], [0.26230767369270325], [0.2751556634902954], [0.28827279806137085], [0.30164700746536255], [0.31526416540145874], [0.32910874485969543], [0.3431633412837982], [0.3574090301990509], [0.3718259036540985], [0.3863930106163025], [0.40108898282051086], [0.4158921539783478], [0.43078169226646423], [0.44573697447776794], [0.46073880791664124], [0.47576943039894104], [0.4908128082752228], [0.5058537721633911], [0.5208798050880432], [0.5358787775039673], [0.5508401989936829], [0.5657540559768677], [0.5806111693382263], [0.5954023003578186], [0.6101188659667969], [0.6247512698173523], [0.6392900943756104], [0.6537250876426697], [0.6680461168289185], [0.6822417974472046], [0.6963008046150208], [0.7102112174034119], [0.7239606976509094], [0.7375364899635315], [0.7509255409240723], [0.7641149163246155], [0.7770909667015076], [0.7898406982421875], [0.8023501038551331], [0.8146059513092041], [0.8265947699546814], [0.8383030891418457], [0.8497175574302673], [0.8608255386352539], [0.8716138601303101], [0.8820703029632568], [0.8921824097633362], [0.9019386768341064], [0.9113276600837708], [0.9203386306762695], [0.9289612174034119], [0.9371857047080994], [0.9450026750564575], [0.9524042010307312], [0.9593816995620728], [0.9659285545349121], [0.9720378518104553], [0.977703869342804], [0.9829216003417969], [0.9876861572265625], [0.9919945597648621], [0.995842695236206], [0.9992290139198303], [1.0021512508392334], [1.004608154296875], [1.0065993070602417], [1.008124589920044]]\n"
          ],
          "name": "stdout"
        }
      ]
    },
    {
      "cell_type": "code",
      "metadata": {
        "id": "xclVVGBDXRFU"
      },
      "source": [
        "arr = np.array(lst_output)\r\n",
        "day_new=np.arange(1,751)\r\n",
        "day_pred=np.arange(751,1251)"
      ],
      "execution_count": 100,
      "outputs": []
    },
    {
      "cell_type": "code",
      "metadata": {
        "colab": {
          "base_uri": "https://localhost:8080/",
          "height": 175
        },
        "id": "wyC8WzzJXftb",
        "outputId": "37fb232a-5545-491f-c6d8-bafa25825402"
      },
      "source": [
        "plt.figure(figsize=(9,2))\r\n",
        "plt.plot(day_new,scaler.inverse_transform(sensor2),label=\"actual data\")\r\n",
        "plt.plot(day_pred,scaler.inverse_transform(lst_output),label=\"predicated output\")\r\n",
        "plt.legend()"
      ],
      "execution_count": 107,
      "outputs": [
        {
          "output_type": "execute_result",
          "data": {
            "text/plain": [
              "<matplotlib.legend.Legend at 0x7fbd2ff04ef0>"
            ]
          },
          "metadata": {
            "tags": []
          },
          "execution_count": 107
        },
        {
          "output_type": "display_data",
          "data": {
            "image/png": "[encoded data removed]",
            "text/plain": [
              "<Figure size 648x144 with 1 Axes>"
            ]
          },
          "metadata": {
            "tags": [],
            "needs_background": "light"
          }
        }
      ]
    },
    {
      "cell_type": "code",
      "metadata": {
        "id": "KWP2VFSpXjKD"
      },
      "source": [
        "df_500[\"s2\"]=scaler.inverse_transform(arr)"
      ],
      "execution_count": 104,
      "outputs": []
    },
    {
      "cell_type": "code",
      "metadata": {
        "colab": {
          "base_uri": "https://localhost:8080/",
          "height": 407
        },
        "id": "z81Vjj7YYEzW",
        "outputId": "74e28429-72ab-4a07-a80d-bedc64006f0b"
      },
      "source": [
        "df_500"
      ],
      "execution_count": 105,
      "outputs": [
        {
          "output_type": "execute_result",
          "data": {
            "text/html": [
              "<div>\n",
              "<style scoped>\n",
              "    .dataframe tbody tr th:only-of-type {\n",
              "        vertical-align: middle;\n",
              "    }\n",
              "\n",
              "    .dataframe tbody tr th {\n",
              "        vertical-align: top;\n",
              "    }\n",
              "\n",
              "    .dataframe thead th {\n",
              "        text-align: right;\n",
              "    }\n",
              "</style>\n",
              "<table border=\"1\" class=\"dataframe\">\n",
              "  <thead>\n",
              "    <tr style=\"text-align: right;\">\n",
              "      <th></th>\n",
              "      <th>s1</th>\n",
              "      <th>s2</th>\n",
              "      <th>s3</th>\n",
              "    </tr>\n",
              "  </thead>\n",
              "  <tbody>\n",
              "    <tr>\n",
              "      <th>0</th>\n",
              "      <td>-3.999953</td>\n",
              "      <td>-16.581890</td>\n",
              "      <td>NaN</td>\n",
              "    </tr>\n",
              "    <tr>\n",
              "      <th>1</th>\n",
              "      <td>-3.964260</td>\n",
              "      <td>-16.313770</td>\n",
              "      <td>NaN</td>\n",
              "    </tr>\n",
              "    <tr>\n",
              "      <th>2</th>\n",
              "      <td>-3.926150</td>\n",
              "      <td>-16.032566</td>\n",
              "      <td>NaN</td>\n",
              "    </tr>\n",
              "    <tr>\n",
              "      <th>3</th>\n",
              "      <td>-3.885984</td>\n",
              "      <td>-15.738822</td>\n",
              "      <td>NaN</td>\n",
              "    </tr>\n",
              "    <tr>\n",
              "      <th>4</th>\n",
              "      <td>-3.843603</td>\n",
              "      <td>-15.432802</td>\n",
              "      <td>NaN</td>\n",
              "    </tr>\n",
              "    <tr>\n",
              "      <th>...</th>\n",
              "      <td>...</td>\n",
              "      <td>...</td>\n",
              "      <td>...</td>\n",
              "    </tr>\n",
              "    <tr>\n",
              "      <th>495</th>\n",
              "      <td>-8.922503</td>\n",
              "      <td>21.272218</td>\n",
              "      <td>NaN</td>\n",
              "    </tr>\n",
              "    <tr>\n",
              "      <th>496</th>\n",
              "      <td>-8.728823</td>\n",
              "      <td>21.396730</td>\n",
              "      <td>NaN</td>\n",
              "    </tr>\n",
              "    <tr>\n",
              "      <th>497</th>\n",
              "      <td>-8.526852</td>\n",
              "      <td>21.501415</td>\n",
              "      <td>NaN</td>\n",
              "    </tr>\n",
              "    <tr>\n",
              "      <th>498</th>\n",
              "      <td>-8.316611</td>\n",
              "      <td>21.586256</td>\n",
              "      <td>NaN</td>\n",
              "    </tr>\n",
              "    <tr>\n",
              "      <th>499</th>\n",
              "      <td>-8.098111</td>\n",
              "      <td>21.651246</td>\n",
              "      <td>NaN</td>\n",
              "    </tr>\n",
              "  </tbody>\n",
              "</table>\n",
              "<p>500 rows × 3 columns</p>\n",
              "</div>"
            ],
            "text/plain": [
              "           s1         s2   s3\n",
              "0   -3.999953 -16.581890  NaN\n",
              "1   -3.964260 -16.313770  NaN\n",
              "2   -3.926150 -16.032566  NaN\n",
              "3   -3.885984 -15.738822  NaN\n",
              "4   -3.843603 -15.432802  NaN\n",
              "..        ...        ...  ...\n",
              "495 -8.922503  21.272218  NaN\n",
              "496 -8.728823  21.396730  NaN\n",
              "497 -8.526852  21.501415  NaN\n",
              "498 -8.316611  21.586256  NaN\n",
              "499 -8.098111  21.651246  NaN\n",
              "\n",
              "[500 rows x 3 columns]"
            ]
          },
          "metadata": {
            "tags": []
          },
          "execution_count": 105
        }
      ]
    },
    {
      "cell_type": "markdown",
      "metadata": {
        "id": "CFBO4U_9YWIB"
      },
      "source": [
        "# ..............SENSOR_3................"
      ]
    },
    {
      "cell_type": "code",
      "metadata": {
        "id": "8VNM3_6_YbpL"
      },
      "source": [
        "sensor3=scaler.fit_transform(np.array(sensor3).reshape(-1,1))"
      ],
      "execution_count": 156,
      "outputs": []
    },
    {
      "cell_type": "code",
      "metadata": {
        "id": "1ih8SLzBwHB4"
      },
      "source": [
        "training_size=int(len(sensor3)*0.65)\r\n",
        "test_size=len(sensor3)-training_size\r\n",
        "train_data,test_data=sensor3[0:training_size,:],sensor3[training_size:len(sensor3),:1]"
      ],
      "execution_count": 157,
      "outputs": []
    },
    {
      "cell_type": "code",
      "metadata": {
        "colab": {
          "base_uri": "https://localhost:8080/"
        },
        "id": "qU7_uJqswV-D",
        "outputId": "b35c3d9f-f82f-4f80-880b-1f938dc6b62b"
      },
      "source": [
        "train_data.shape,test_data.shape"
      ],
      "execution_count": 158,
      "outputs": [
        {
          "output_type": "execute_result",
          "data": {
            "text/plain": [
              "((487, 1), (263, 1))"
            ]
          },
          "metadata": {
            "tags": []
          },
          "execution_count": 158
        }
      ]
    },
    {
      "cell_type": "code",
      "metadata": {
        "id": "L01wZnocwaI9"
      },
      "source": [
        "time_step = 100\r\n",
        "X_train, y_train = create_dataset(train_data, time_step)\r\n",
        "X_test, ytest = create_dataset(test_data, time_step)"
      ],
      "execution_count": 159,
      "outputs": []
    },
    {
      "cell_type": "code",
      "metadata": {
        "colab": {
          "base_uri": "https://localhost:8080/"
        },
        "id": "sxvPSUDzwaQU",
        "outputId": "946e8536-3dd7-41e8-9e11-f994a111e48f"
      },
      "source": [
        "X_train.shape,X_test.shape"
      ],
      "execution_count": 160,
      "outputs": [
        {
          "output_type": "execute_result",
          "data": {
            "text/plain": [
              "((386, 100), (162, 100))"
            ]
          },
          "metadata": {
            "tags": []
          },
          "execution_count": 160
        }
      ]
    },
    {
      "cell_type": "code",
      "metadata": {
        "id": "5V_Ynt6ewaYz"
      },
      "source": [
        "X_train =X_train.reshape(X_train.shape[0],X_train.shape[1] , 1)\r\n",
        "X_test = X_test.reshape(X_test.shape[0],X_test.shape[1] , 1)"
      ],
      "execution_count": 161,
      "outputs": []
    },
    {
      "cell_type": "code",
      "metadata": {
        "colab": {
          "base_uri": "https://localhost:8080/"
        },
        "id": "DG1wKOr3wurc",
        "outputId": "f0491d75-54b3-4bb1-adb8-37efcf98d4a6"
      },
      "source": [
        "model.fit(X_train,y_train,validation_data=(X_test,ytest),epochs=100,batch_size=64,verbose=1)"
      ],
      "execution_count": 162,
      "outputs": [
        {
          "output_type": "stream",
          "text": [
            "Epoch 1/100\n",
            "7/7 [==============================] - 2s 293ms/step - loss: 0.1847 - val_loss: 0.2666\n",
            "Epoch 2/100\n",
            "7/7 [==============================] - 1s 159ms/step - loss: 0.1524 - val_loss: 0.0945\n",
            "Epoch 3/100\n",
            "7/7 [==============================] - 1s 160ms/step - loss: 0.1068 - val_loss: 0.1009\n",
            "Epoch 4/100\n",
            "7/7 [==============================] - 1s 145ms/step - loss: 0.0889 - val_loss: 0.0827\n",
            "Epoch 5/100\n",
            "7/7 [==============================] - 1s 150ms/step - loss: 0.0830 - val_loss: 0.0893\n",
            "Epoch 6/100\n",
            "7/7 [==============================] - 1s 143ms/step - loss: 0.0744 - val_loss: 0.0725\n",
            "Epoch 7/100\n",
            "7/7 [==============================] - 1s 161ms/step - loss: 0.0672 - val_loss: 0.0674\n",
            "Epoch 8/100\n",
            "7/7 [==============================] - 1s 135ms/step - loss: 0.0611 - val_loss: 0.0595\n",
            "Epoch 9/100\n",
            "7/7 [==============================] - 1s 136ms/step - loss: 0.0511 - val_loss: 0.0453\n",
            "Epoch 10/100\n",
            "7/7 [==============================] - 1s 133ms/step - loss: 0.0316 - val_loss: 0.0157\n",
            "Epoch 11/100\n",
            "7/7 [==============================] - 1s 134ms/step - loss: 0.0126 - val_loss: 0.0154\n",
            "Epoch 12/100\n",
            "7/7 [==============================] - 1s 139ms/step - loss: 0.0126 - val_loss: 0.0089\n",
            "Epoch 13/100\n",
            "7/7 [==============================] - 1s 134ms/step - loss: 0.0085 - val_loss: 0.0088\n",
            "Epoch 14/100\n",
            "7/7 [==============================] - 1s 137ms/step - loss: 0.0066 - val_loss: 0.0076\n",
            "Epoch 15/100\n",
            "7/7 [==============================] - 1s 135ms/step - loss: 0.0068 - val_loss: 0.0067\n",
            "Epoch 16/100\n",
            "7/7 [==============================] - 1s 160ms/step - loss: 0.0054 - val_loss: 0.0064\n",
            "Epoch 17/100\n",
            "7/7 [==============================] - 1s 145ms/step - loss: 0.0052 - val_loss: 0.0055\n",
            "Epoch 18/100\n",
            "7/7 [==============================] - 1s 152ms/step - loss: 0.0047 - val_loss: 0.0052\n",
            "Epoch 19/100\n",
            "7/7 [==============================] - 1s 154ms/step - loss: 0.0040 - val_loss: 0.0048\n",
            "Epoch 20/100\n",
            "7/7 [==============================] - 1s 147ms/step - loss: 0.0037 - val_loss: 0.0044\n",
            "Epoch 21/100\n",
            "7/7 [==============================] - 1s 154ms/step - loss: 0.0039 - val_loss: 0.0043\n",
            "Epoch 22/100\n",
            "7/7 [==============================] - 1s 166ms/step - loss: 0.0032 - val_loss: 0.0037\n",
            "Epoch 23/100\n",
            "7/7 [==============================] - 1s 165ms/step - loss: 0.0032 - val_loss: 0.0032\n",
            "Epoch 24/100\n",
            "7/7 [==============================] - 1s 146ms/step - loss: 0.0026 - val_loss: 0.0032\n",
            "Epoch 25/100\n",
            "7/7 [==============================] - 1s 139ms/step - loss: 0.0024 - val_loss: 0.0026\n",
            "Epoch 26/100\n",
            "7/7 [==============================] - 1s 135ms/step - loss: 0.0022 - val_loss: 0.0031\n",
            "Epoch 27/100\n",
            "7/7 [==============================] - 1s 148ms/step - loss: 0.0022 - val_loss: 0.0018\n",
            "Epoch 28/100\n",
            "7/7 [==============================] - 1s 141ms/step - loss: 0.0018 - val_loss: 0.0016\n",
            "Epoch 29/100\n",
            "7/7 [==============================] - 1s 134ms/step - loss: 0.0013 - val_loss: 0.0013\n",
            "Epoch 30/100\n",
            "7/7 [==============================] - 1s 136ms/step - loss: 0.0011 - val_loss: 0.0011\n",
            "Epoch 31/100\n",
            "7/7 [==============================] - 1s 135ms/step - loss: 7.6078e-04 - val_loss: 7.4276e-04\n",
            "Epoch 32/100\n",
            "7/7 [==============================] - 1s 138ms/step - loss: 6.0891e-04 - val_loss: 5.3213e-04\n",
            "Epoch 33/100\n",
            "7/7 [==============================] - 1s 163ms/step - loss: 4.3637e-04 - val_loss: 6.2072e-04\n",
            "Epoch 34/100\n",
            "7/7 [==============================] - 1s 151ms/step - loss: 3.3892e-04 - val_loss: 4.0637e-04\n",
            "Epoch 35/100\n",
            "7/7 [==============================] - 1s 139ms/step - loss: 2.7807e-04 - val_loss: 3.2273e-04\n",
            "Epoch 36/100\n",
            "7/7 [==============================] - 1s 137ms/step - loss: 2.9577e-04 - val_loss: 8.0903e-04\n",
            "Epoch 37/100\n",
            "7/7 [==============================] - 1s 140ms/step - loss: 3.8214e-04 - val_loss: 0.0012\n",
            "Epoch 38/100\n",
            "7/7 [==============================] - 1s 154ms/step - loss: 6.3270e-04 - val_loss: 6.5006e-04\n",
            "Epoch 39/100\n",
            "7/7 [==============================] - 1s 152ms/step - loss: 3.1921e-04 - val_loss: 2.8406e-04\n",
            "Epoch 40/100\n",
            "7/7 [==============================] - 1s 160ms/step - loss: 2.7730e-04 - val_loss: 5.3458e-04\n",
            "Epoch 41/100\n",
            "7/7 [==============================] - 1s 138ms/step - loss: 2.4281e-04 - val_loss: 3.5137e-04\n",
            "Epoch 42/100\n",
            "7/7 [==============================] - 1s 143ms/step - loss: 1.7518e-04 - val_loss: 1.6496e-04\n",
            "Epoch 43/100\n",
            "7/7 [==============================] - 1s 150ms/step - loss: 1.6391e-04 - val_loss: 1.5341e-04\n",
            "Epoch 44/100\n",
            "7/7 [==============================] - 1s 139ms/step - loss: 1.2670e-04 - val_loss: 1.6062e-04\n",
            "Epoch 45/100\n",
            "7/7 [==============================] - 1s 137ms/step - loss: 9.5402e-05 - val_loss: 9.0560e-05\n",
            "Epoch 46/100\n",
            "7/7 [==============================] - 1s 141ms/step - loss: 1.0419e-04 - val_loss: 2.9038e-04\n",
            "Epoch 47/100\n",
            "7/7 [==============================] - 1s 136ms/step - loss: 2.6813e-04 - val_loss: 2.7033e-04\n",
            "Epoch 48/100\n",
            "7/7 [==============================] - 1s 160ms/step - loss: 2.1845e-04 - val_loss: 1.5901e-04\n",
            "Epoch 49/100\n",
            "7/7 [==============================] - 1s 150ms/step - loss: 1.5736e-04 - val_loss: 1.3522e-04\n",
            "Epoch 50/100\n",
            "7/7 [==============================] - 1s 147ms/step - loss: 1.3624e-04 - val_loss: 2.3420e-04\n",
            "Epoch 51/100\n",
            "7/7 [==============================] - 1s 157ms/step - loss: 1.4145e-04 - val_loss: 1.5398e-04\n",
            "Epoch 52/100\n",
            "7/7 [==============================] - 1s 145ms/step - loss: 1.0314e-04 - val_loss: 5.5976e-05\n",
            "Epoch 53/100\n",
            "7/7 [==============================] - 1s 137ms/step - loss: 6.8166e-05 - val_loss: 8.9959e-05\n",
            "Epoch 54/100\n",
            "7/7 [==============================] - 1s 141ms/step - loss: 9.2479e-05 - val_loss: 1.2313e-04\n",
            "Epoch 55/100\n",
            "7/7 [==============================] - 1s 138ms/step - loss: 8.1506e-05 - val_loss: 4.2879e-05\n",
            "Epoch 56/100\n",
            "7/7 [==============================] - 1s 149ms/step - loss: 4.8329e-05 - val_loss: 5.2957e-05\n",
            "Epoch 57/100\n",
            "7/7 [==============================] - 1s 136ms/step - loss: 4.6219e-05 - val_loss: 6.3605e-05\n",
            "Epoch 58/100\n",
            "7/7 [==============================] - 1s 138ms/step - loss: 4.6984e-05 - val_loss: 4.5523e-05\n",
            "Epoch 59/100\n",
            "7/7 [==============================] - 1s 138ms/step - loss: 3.9400e-05 - val_loss: 5.9883e-05\n",
            "Epoch 60/100\n",
            "7/7 [==============================] - 1s 157ms/step - loss: 8.4156e-05 - val_loss: 4.7611e-04\n",
            "Epoch 61/100\n",
            "7/7 [==============================] - 1s 150ms/step - loss: 3.9408e-04 - val_loss: 5.4931e-04\n",
            "Epoch 62/100\n",
            "7/7 [==============================] - 1s 142ms/step - loss: 2.9584e-04 - val_loss: 1.6662e-04\n",
            "Epoch 63/100\n",
            "7/7 [==============================] - 1s 140ms/step - loss: 1.4985e-04 - val_loss: 7.5764e-04\n",
            "Epoch 64/100\n",
            "7/7 [==============================] - 1s 139ms/step - loss: 5.1907e-04 - val_loss: 8.3966e-04\n",
            "Epoch 65/100\n",
            "7/7 [==============================] - 1s 162ms/step - loss: 3.3705e-04 - val_loss: 1.4756e-04\n",
            "Epoch 66/100\n",
            "7/7 [==============================] - 1s 165ms/step - loss: 1.1446e-04 - val_loss: 9.3004e-05\n",
            "Epoch 67/100\n",
            "7/7 [==============================] - 1s 158ms/step - loss: 1.0994e-04 - val_loss: 1.0779e-04\n",
            "Epoch 68/100\n",
            "7/7 [==============================] - 1s 155ms/step - loss: 8.4381e-05 - val_loss: 1.0714e-04\n",
            "Epoch 69/100\n",
            "7/7 [==============================] - 1s 149ms/step - loss: 9.1960e-05 - val_loss: 1.8141e-04\n",
            "Epoch 70/100\n",
            "7/7 [==============================] - 1s 141ms/step - loss: 1.3402e-04 - val_loss: 1.0800e-04\n",
            "Epoch 71/100\n",
            "7/7 [==============================] - 1s 141ms/step - loss: 1.3073e-04 - val_loss: 7.7991e-05\n",
            "Epoch 72/100\n",
            "7/7 [==============================] - 1s 162ms/step - loss: 9.5683e-05 - val_loss: 4.9155e-05\n",
            "Epoch 73/100\n",
            "7/7 [==============================] - 1s 157ms/step - loss: 5.9157e-05 - val_loss: 1.4594e-04\n",
            "Epoch 74/100\n",
            "7/7 [==============================] - 1s 154ms/step - loss: 8.3558e-05 - val_loss: 1.4466e-04\n",
            "Epoch 75/100\n",
            "7/7 [==============================] - 1s 163ms/step - loss: 7.5527e-05 - val_loss: 4.9439e-05\n",
            "Epoch 76/100\n",
            "7/7 [==============================] - 1s 166ms/step - loss: 7.3848e-05 - val_loss: 2.1328e-04\n",
            "Epoch 77/100\n",
            "7/7 [==============================] - 1s 139ms/step - loss: 1.3604e-04 - val_loss: 9.5356e-05\n",
            "Epoch 78/100\n",
            "7/7 [==============================] - 1s 137ms/step - loss: 9.4322e-05 - val_loss: 1.2570e-04\n",
            "Epoch 79/100\n",
            "7/7 [==============================] - 1s 156ms/step - loss: 1.0373e-04 - val_loss: 1.2430e-04\n",
            "Epoch 80/100\n",
            "7/7 [==============================] - 1s 165ms/step - loss: 1.9635e-04 - val_loss: 3.3792e-04\n",
            "Epoch 81/100\n",
            "7/7 [==============================] - 1s 161ms/step - loss: 2.3143e-04 - val_loss: 1.7655e-04\n",
            "Epoch 82/100\n",
            "7/7 [==============================] - 1s 147ms/step - loss: 1.2748e-04 - val_loss: 9.6348e-05\n",
            "Epoch 83/100\n",
            "7/7 [==============================] - 1s 138ms/step - loss: 9.5753e-05 - val_loss: 1.2716e-04\n",
            "Epoch 84/100\n",
            "7/7 [==============================] - 1s 162ms/step - loss: 7.0111e-05 - val_loss: 1.6065e-04\n",
            "Epoch 85/100\n",
            "7/7 [==============================] - 1s 143ms/step - loss: 6.9572e-05 - val_loss: 7.1717e-05\n",
            "Epoch 86/100\n",
            "7/7 [==============================] - 1s 147ms/step - loss: 7.9045e-05 - val_loss: 9.2679e-05\n",
            "Epoch 87/100\n",
            "7/7 [==============================] - 1s 156ms/step - loss: 7.6923e-05 - val_loss: 6.1243e-05\n",
            "Epoch 88/100\n",
            "7/7 [==============================] - 1s 142ms/step - loss: 7.3483e-05 - val_loss: 1.9564e-04\n",
            "Epoch 89/100\n",
            "7/7 [==============================] - 1s 139ms/step - loss: 1.0184e-04 - val_loss: 1.5175e-04\n",
            "Epoch 90/100\n",
            "7/7 [==============================] - 1s 138ms/step - loss: 1.2894e-04 - val_loss: 2.4640e-04\n",
            "Epoch 91/100\n",
            "7/7 [==============================] - 1s 160ms/step - loss: 2.1201e-04 - val_loss: 5.5838e-05\n",
            "Epoch 92/100\n",
            "7/7 [==============================] - 1s 158ms/step - loss: 1.4886e-04 - val_loss: 3.5725e-04\n",
            "Epoch 93/100\n",
            "7/7 [==============================] - 1s 137ms/step - loss: 1.7291e-04 - val_loss: 2.9405e-04\n",
            "Epoch 94/100\n",
            "7/7 [==============================] - 1s 152ms/step - loss: 1.3441e-04 - val_loss: 1.6036e-04\n",
            "Epoch 95/100\n",
            "7/7 [==============================] - 1s 137ms/step - loss: 2.0092e-04 - val_loss: 2.0620e-04\n",
            "Epoch 96/100\n",
            "7/7 [==============================] - 1s 140ms/step - loss: 2.3068e-04 - val_loss: 7.5070e-04\n",
            "Epoch 97/100\n",
            "7/7 [==============================] - 1s 140ms/step - loss: 3.7013e-04 - val_loss: 7.5359e-04\n",
            "Epoch 98/100\n",
            "7/7 [==============================] - 1s 154ms/step - loss: 3.7666e-04 - val_loss: 1.1096e-04\n",
            "Epoch 99/100\n",
            "7/7 [==============================] - 1s 143ms/step - loss: 2.5014e-04 - val_loss: 1.2096e-04\n",
            "Epoch 100/100\n",
            "7/7 [==============================] - 1s 137ms/step - loss: 1.0415e-04 - val_loss: 1.2052e-04\n"
          ],
          "name": "stdout"
        },
        {
          "output_type": "execute_result",
          "data": {
            "text/plain": [
              "<tensorflow.python.keras.callbacks.History at 0x7fbd2b693b70>"
            ]
          },
          "metadata": {
            "tags": []
          },
          "execution_count": 162
        }
      ]
    },
    {
      "cell_type": "code",
      "metadata": {
        "id": "p_QSsazmwz7x"
      },
      "source": [
        "train_predict=model.predict(X_train)\r\n",
        "test_predict=model.predict(X_test)"
      ],
      "execution_count": 163,
      "outputs": []
    },
    {
      "cell_type": "code",
      "metadata": {
        "id": "v-qi3MHrw04_"
      },
      "source": [
        "train_predict=scaler.inverse_transform(train_predict)\r\n",
        "test_predict=scaler.inverse_transform(test_predict)"
      ],
      "execution_count": 164,
      "outputs": []
    },
    {
      "cell_type": "code",
      "metadata": {
        "colab": {
          "base_uri": "https://localhost:8080/"
        },
        "id": "9epopiZMw1Kr",
        "outputId": "8023562a-70a0-4874-f4b1-30ccb550a44b"
      },
      "source": [
        "import math\r\n",
        "from sklearn.metrics import mean_squared_error\r\n",
        "math.sqrt(mean_squared_error(y_train,train_predict))"
      ],
      "execution_count": 165,
      "outputs": [
        {
          "output_type": "execute_result",
          "data": {
            "text/plain": [
              "0.010883133005367543"
            ]
          },
          "metadata": {
            "tags": []
          },
          "execution_count": 165
        }
      ]
    },
    {
      "cell_type": "code",
      "metadata": {
        "colab": {
          "base_uri": "https://localhost:8080/"
        },
        "id": "x8qO_eVkxJS_",
        "outputId": "1480f961-5025-4847-9138-c66580b20abc"
      },
      "source": [
        "math.sqrt(mean_squared_error(ytest,test_predict))"
      ],
      "execution_count": 166,
      "outputs": [
        {
          "output_type": "execute_result",
          "data": {
            "text/plain": [
              "0.010978203316254879"
            ]
          },
          "metadata": {
            "tags": []
          },
          "execution_count": 166
        }
      ]
    },
    {
      "cell_type": "code",
      "metadata": {
        "colab": {
          "base_uri": "https://localhost:8080/",
          "height": 265
        },
        "id": "r0bmY0ZoxKSg",
        "outputId": "14b4e028-fec5-422a-ad02-bca9b12d5728"
      },
      "source": [
        "import matplotlib.pyplot as plt\r\n",
        "look_back=100\r\n",
        "trainPredictPlot = np.empty_like(sensor3)\r\n",
        "trainPredictPlot[:, :] = np.nan\r\n",
        "trainPredictPlot[look_back:len(train_predict)+look_back, :] = train_predict\r\n",
        "# shift test predictions for plotting\r\n",
        "testPredictPlot = np.empty_like(sensor3)\r\n",
        "testPredictPlot[:, :] = np.nan\r\n",
        "testPredictPlot[len(train_predict)+(look_back*2)+1:len(sensor3)-1, :] = test_predict\r\n",
        "# plot baseline and predictions\r\n",
        "plt.plot(scaler.inverse_transform(sensor3),label=\"orginal dataset\")\r\n",
        "plt.plot(trainPredictPlot,label=\"train dataset\")\r\n",
        "plt.plot(testPredictPlot,label=\"test dataset\")\r\n",
        "plt.legend()\r\n",
        "plt.show()"
      ],
      "execution_count": 167,
      "outputs": [
        {
          "output_type": "display_data",
          "data": {
            "image/png": "[encoded data removed]",
            "text/plain": [
              "<Figure size 432x288 with 1 Axes>"
            ]
          },
          "metadata": {
            "tags": [],
            "needs_background": "light"
          }
        }
      ]
    },
    {
      "cell_type": "code",
      "metadata": {
        "colab": {
          "base_uri": "https://localhost:8080/"
        },
        "id": "Ezyyn6JFxKae",
        "outputId": "12ff94af-aad4-4e37-bd06-b9968a9a052e"
      },
      "source": [
        "x_input=test_data[163:].reshape(1,-1)# storing previous 100 sensor1 value for future prediction\r\n",
        "x_input.shape\r\n"
      ],
      "execution_count": 168,
      "outputs": [
        {
          "output_type": "execute_result",
          "data": {
            "text/plain": [
              "(1, 100)"
            ]
          },
          "metadata": {
            "tags": []
          },
          "execution_count": 168
        }
      ]
    },
    {
      "cell_type": "code",
      "metadata": {
        "id": "iS9AcSpnxKjl"
      },
      "source": [
        "temp_input=list(x_input)\r\n",
        "temp_input=temp_input[0].tolist()"
      ],
      "execution_count": 169,
      "outputs": []
    },
    {
      "cell_type": "code",
      "metadata": {
        "colab": {
          "base_uri": "https://localhost:8080/"
        },
        "id": "OFvdH7InxKrk",
        "outputId": "6067dfa7-e9dc-4d77-ab76-d07d2fcf28a4"
      },
      "source": [
        "from numpy import array\r\n",
        "lst_output=[]\r\n",
        "n_steps=100\r\n",
        "i=0\r\n",
        "while(i<500):\r\n",
        "    if(len(temp_input)>100):\r\n",
        "        #print(temp_input)\r\n",
        "        x_input=np.array(temp_input[1:])\r\n",
        "       # print(\"{} day input {}\".format(i,x_input))\r\n",
        "        x_input=x_input.reshape(1,-1)\r\n",
        "        x_input = x_input.reshape((1, n_steps, 1))\r\n",
        "        #print(x_input)\r\n",
        "        yhat = model.predict(x_input, verbose=0)\r\n",
        "        #print(\"{} day output {}\".format(i,yhat))\r\n",
        "        temp_input.extend(yhat[0].tolist())\r\n",
        "        temp_input=temp_input[1:]\r\n",
        "        #print(temp_input)\r\n",
        "        lst_output.extend(yhat.tolist())\r\n",
        "        i=i+1\r\n",
        "    else:\r\n",
        "        x_input = x_input.reshape((1, n_steps,1))\r\n",
        "        yhat = model.predict(x_input, verbose=0)\r\n",
        "        temp_input.extend(yhat[0].tolist())\r\n",
        "        lst_output.extend(yhat.tolist())\r\n",
        "        i=i+1\r\n",
        "print(lst_output)"
      ],
      "execution_count": 170,
      "outputs": [
        {
          "output_type": "stream",
          "text": [
            "[[0.13617843389511108], [0.1910005360841751], [0.25345876812934875], [0.321749746799469], [0.3936132490634918], [0.46632352471351624], [0.5368176698684692], [0.6019489169120789], [0.6587609648704529], [0.704701840877533], [0.7377766966819763], [0.7566714882850647], [0.7608190178871155], [0.7503803968429565], [0.7261508703231812], [0.6894415616989136], [0.6419532895088196], [0.58566814661026], [0.5227778553962708], [0.45566511154174805], [0.38692548871040344], [0.3193894922733307], [0.2560808062553406], [0.20006094872951508], [0.15415312349796295], [0.12062100321054459], [0.1009209156036377], [0.0956215038895607], [0.10450156033039093], [0.12676091492176056], [0.1612568199634552], [0.20668433606624603], [0.26165348291397095], [0.3246462345123291], [0.3938814699649811], [0.4671599566936493], [0.5418001413345337], [0.6147444248199463], [0.6828131079673767], [0.742982804775238], [0.7925916314125061], [0.8294855952262878], [0.8521546721458435], [0.8598354458808899], [0.8525224328041077], [0.8308954238891602], [0.7962034940719604], [0.7501397132873535], [0.6947159767150879], [0.6321696639060974], [0.5649209022521973], [0.49558016657829285], [0.42696613073349], [0.3620774745941162], [0.30395859479904175], [0.2554461359977722], [0.21886000037193298], [0.19576062262058258], [0.18686799705028534], [0.1921512335538864], [0.21101947128772736], [0.2425253540277481], [0.285511314868927], [0.3386620283126831], [0.4004492461681366], [0.4690019488334656], [0.5419776439666748], [0.6165464520454407], [0.6895530223846436], [0.7577966451644897], [0.8182846307754517], [0.8683809638023376], [0.9059084057807922], [0.9292818307876587], [0.937627911567688], [0.9308110475540161], [0.9093784689903259], [0.8744660019874573], [0.8276947736740112], [0.7710510492324829], [0.7067782878875732], [0.6373130679130554], [0.5652769804000854], [0.4934900403022766], [0.42495325207710266], [0.3627374470233917], [0.30974844098091125], [0.2684229612350464], [0.24046888947486877], [0.22676250338554382], [0.22741980850696564], [0.2419729232788086], [0.2695569396018982], [0.30904433131217957], [0.35909101366996765], [0.41809162497520447], [0.48407411575317383], [0.5546069145202637], [0.6268190145492554], [0.6975801587104797], [0.7637721300125122], [0.822512149810791], [0.8712455630302429], [0.9078401923179626], [0.9307036995887756], [0.9389002919197083], [0.932177722454071], [0.9109196662902832], [0.876081645488739], [0.8291181921958923], [0.7718822956085205], [0.7065209150314331], [0.6353971362113953], [0.561071515083313], [0.4863128364086151], [0.4140983521938324], [0.34752729535102844], [0.2896202504634857], [0.24302104115486145], [0.2097073644399643], [0.19082872569561005], [0.1867150515317917], [0.1970154196023941], [0.2208818644285202], [0.2571278512477875], [0.30431851744651794], [0.36077064275741577], [0.4244796931743622], [0.4930332601070404], [0.5636095404624939], [0.6331210136413574], [0.6984685659408569], [0.7567653656005859], [0.8054612278938293], [0.8424124121665955], [0.8659863471984863], [0.8751674890518188], [0.8695948123931885], [0.8495273590087891], [0.8157879710197449], [0.7697011232376099], [0.7130025625228882], [0.6477363109588623], [0.576178789138794], [0.5008187890052795], [0.4243798851966858], [0.3498379588127136], [0.2803662121295929], [0.21915306150913239], [0.1691020280122757], [0.13249708712100983], [0.11076117306947708], [0.10439255833625793], [0.1130700409412384], [0.1358584761619568], [0.17142927646636963], [0.21822375059127808], [0.2745121121406555], [0.33834248781204224], [0.407429039478302], [0.47907960414886475], [0.5502632260322571], [0.6178259253501892], [0.6787529587745667], [0.7303536534309387], [0.7703598737716675], [0.7970232367515564], [0.8092224597930908], [0.8065173625946045], [0.7891228199005127], [0.7578424215316772], [0.7139850854873657], [0.6592658758163452], [0.5957009792327881], [0.5255336761474609], [0.4512212574481964], [0.3754674792289734], [0.30125340819358826], [0.23179787397384644], [0.17038503289222717], [0.12005167454481125], [0.08322155475616455], [0.061420001089572906], [0.05517895519733429], [0.06414153426885605], [0.08729749172925949], [0.1232508048415184], [0.17042569816112518], [0.22715626657009125], [0.2916427552700043], [0.3618144690990448], [0.4351940155029297], [0.5088808536529541], [0.5797119140625], [0.6445387005805969], [0.7004757523536682], [0.745057225227356], [0.7763515114784241], [0.7930801510810852], [0.7946921586990356], [0.7813462615013123], [0.7538334131240845], [0.7134690284729004], [0.6619792580604553], [0.6013868451118469], [0.5339328646659851], [0.462057501077652], [0.3884308338165283], [0.31598779559135437], [0.24789734184741974], [0.18740570545196533], [0.13753704726696014], [0.10073357075452805], [0.07856862992048264], [0.07164525240659714], [0.07969499379396439], [0.10180909186601639], [0.13670134544372559], [0.1829146146774292], [0.23891374468803406], [0.3030446171760559], [0.3733932673931122], [0.4476255774497986], [0.5229312777519226], [0.5961519479751587], [0.6640580296516418], [0.723625123500824], [0.7722214460372925], [0.8077335357666016], [0.8286960124969482], [0.8343904614448547], [0.8248505592346191], [0.8007863163948059], [0.7634719014167786], [0.7146202325820923], [0.6562610268592834], [0.5906463265419006], [0.5202164053916931], [0.4476175904273987], [0.3757370412349701], [0.30768510699272156], [0.24665877223014832], [0.19566915929317474], [0.15719561278820038], [0.13290318846702576], [0.12353290617465973], [0.12898628413677216], [0.14853507280349731], [0.18106189370155334], [0.22524942457675934], [0.2796652019023895], [0.34272345900535583], [0.41254740953445435], [0.4868134558200836], [0.5626968145370483], [0.6370060443878174], [0.7064674496650696], [0.7680068016052246], [0.8189212679862976], [0.8569917678833008], [0.8806108832359314], [0.8889057040214539], [0.8817629218101501], [0.8597692847251892], [0.8241078853607178], [0.7764410972595215], [0.718783974647522], [0.6533940434455872], [0.5827184915542603], [0.5093970894813538], [0.43629351258277893], [0.3664899170398712], [0.3031742572784424], [0.24939170479774475], [0.20770902931690216], [0.17992256581783295], [0.16693082451820374], [0.1688002645969391], [0.18495675921440125], [0.21440893411636353], [0.2559232711791992], [0.3081044852733612], [0.36936381459236145], [0.4377937614917755], [0.5110307335853577], [0.5862165093421936], [0.6601470708847046], [0.7295597791671753], [0.7914034724235535], [0.8429839015007019], [0.8820522427558899], [0.9069260954856873], [0.9166202545166016], [0.9108876585960388], [0.890171468257904], [0.8555200695991516], [0.8084892630577087], [0.7510243058204651], [0.6853429079055786], [0.6138641238212585], [0.5392001271247864], [0.46418142318725586], [0.39186447858810425], [0.3254449665546417], [0.26803702116012573], [0.22234699130058289], [0.19036123156547546], [0.1731804609298706], [0.17104582488536835], [0.18350741267204285], [0.2096395194530487], [0.24822142720222473], [0.29783597588539124], [0.35686054825782776], [0.4233664572238922], [0.4949934184551239], [0.5689083337783813], [0.6419410109519958], [0.710856020450592], [0.7726189494132996], [0.8245423436164856], [0.864358127117157], [0.8903297781944275], [0.9013781547546387], [0.8971344232559204], [0.8779038190841675], [0.8445925116539001], [0.7986284494400024], [0.7418531179428101], [0.6764059066772461], [0.6046439409255981], [0.5291234850883484], [0.452626496553421], [0.3781796991825104], [0.30899670720100403], [0.24828386306762695], [0.19892600178718567], [0.16314706206321716], [0.14228849112987518], [0.13677825033664703], [0.14626607298851013], [0.1698400229215622], [0.2062361091375351], [0.253979355096817], [0.3114161193370819], [0.37663960456848145], [0.44736209511756897], [0.5208407640457153], [0.5939623117446899], [0.6634875535964966], [0.7263325452804565], [0.77974534034729], [0.8213908672332764], [0.849449098110199], [0.862737238407135], [0.8607760071754456], [0.8437662720680237], [0.8125190734863281], [0.7683750987052917], [0.7131005525588989], [0.6487702131271362], [0.5776858329772949], [0.5023515820503235], [0.4255046844482422], [0.3501477539539337], [0.27951163053512573], [0.21688686311244965], [0.16531333327293396], [0.12721820175647736], [0.10414208471775055], [0.0966559574007988], [0.10447049140930176], [0.12666118144989014], [0.16191419959068298], [0.20871230959892273], [0.26540762186050415], [0.33016878366470337], [0.4008435308933258], [0.4748384952545166], [0.5491344332695007], [0.6204867362976074], [0.6857180595397949], [0.7419487237930298], [0.7867151498794556], [0.8180680274963379], [0.8346937298774719], [0.8359995484352112], [0.8221007585525513], [0.7937507629394531], [0.7522460222244263], [0.6993165016174316], [0.6370073556900024], [0.567589521408081], [0.4935329258441925], [0.4175361096858978], [0.34256550669670105], [0.27183589339256287], [0.20865975320339203], [0.15614953637123108], [0.11684638261795044], [0.09241866320371628], [0.08354729413986206], [0.09001759439706802], [0.11094541847705841], [0.14504045248031616], [0.1908152848482132], [0.24668076634407043], [0.3109094500541687], [0.38149404525756836], [0.4559967815876007], [0.531508207321167], [0.6048020124435425], [0.6726255416870117], [0.73196941614151], [0.7802249193191528], [0.8152906894683838], [0.8356973528862], [0.8407095670700073], [0.8303349614143372], [0.8052520155906677], [0.7667087316513062], [0.7164050936698914], [0.6563683748245239], [0.58885657787323], [0.516318678855896], [0.44141843914985657], [0.3670737147331238], [0.2964509427547455], [0.23283651471138], [0.17935973405838013], [0.13863007724285126], [0.11242453753948212], [0.10155364871025085], [0.10593315213918686], [0.12479768693447113], [0.1569587141275406], [0.20101451873779297], [0.2554554343223572], [0.3186379373073578], [0.3886500895023346], [0.4631485641002655], [0.5392937660217285], [0.6138754487037659], [0.683597981929779], [0.7453688383102417], [0.7964738607406616], [0.8346828818321228], [0.8583760261535645], [0.8666629195213318], [0.8594131469726562], [0.8371956944465637], [0.8011777997016907], [0.7530081868171692], [0.6946890354156494], [0.628467857837677], [0.5567818284034729], [0.4822680354118347], [0.40780210494995117], [0.3365032374858856], [0.2716302275657654], [0.2163303941488266], [0.17328889667987823], [0.14440898597240448], [0.13065584003925323], [0.13210488855838776], [0.14813728630542755], [0.1776842176914215], [0.21943145990371704], [0.27192896604537964], [0.33357545733451843], [0.4024960696697235], [0.4763835668563843], [0.5524259209632874], [0.6274215579032898], [0.6980627775192261], [0.7612248659133911], [0.8141435980796814], [0.8545100688934326], [0.8805896043777466], [0.8913529515266418], [0.8865281343460083], [0.8665512204170227], [0.8324773907661438], [0.7858718633651733], [0.7286862134933472], [0.6631404757499695], [0.5916516184806824], [0.516829788684845], [0.4415128529071808], [0.3687809407711029], [0.3018778860569], [0.2439880073070526], [0.19789952039718628], [0.16567163169384003], [0.14844828844070435], [0.14647407829761505], [0.1592681109905243], [0.1858569234609604], [0.22498036921024323], [0.27521058917045593]]\n"
          ],
          "name": "stdout"
        }
      ]
    },
    {
      "cell_type": "code",
      "metadata": {
        "colab": {
          "base_uri": "https://localhost:8080/",
          "height": 338
        },
        "id": "cj7-vpY8xmnp",
        "outputId": "e8bb4b25-786a-4190-9ca7-83e83836bb00"
      },
      "source": [
        "plt.figure(figsize=(9,5))\r\n",
        "plt.plot(day_new,scaler.inverse_transform(sensor3),label=\"actual data\")\r\n",
        "plt.plot(day_pred,scaler.inverse_transform(lst_output),label=\"predicated output\")\r\n",
        "plt.legend()"
      ],
      "execution_count": 171,
      "outputs": [
        {
          "output_type": "execute_result",
          "data": {
            "text/plain": [
              "[<matplotlib.lines.Line2D at 0x7fbd2ba46358>]"
            ]
          },
          "metadata": {
            "tags": []
          },
          "execution_count": 171
        },
        {
          "output_type": "display_data",
          "data": {
            "image/png": "[encoded data removed]",
            "text/plain": [
              "<Figure size 648x360 with 1 Axes>"
            ]
          },
          "metadata": {
            "tags": [],
            "needs_background": "light"
          }
        }
      ]
    },
    {
      "cell_type": "code",
      "metadata": {
        "id": "YdR4i6KbyQEB"
      },
      "source": [
        ""
      ],
      "execution_count": 171,
      "outputs": []
    }
  ]
}